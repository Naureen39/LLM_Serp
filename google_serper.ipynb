{
  "cells": [
    {
      "cell_type": "markdown",
      "metadata": {
        "id": "dc23c48e"
      },
      "source": [
        "# Google Serper\n",
        "\n"
      ]
    },
    {
      "cell_type": "markdown",
      "metadata": {
        "id": "XKsANzEnW52P"
      },
      "source": [
        "This notebook demonstrates how Large Language Model (LLM) responses can be significantly improved by integrating real-time web search using the Serper API. By comparing responses to the same query — one using only the LLM's internal knowledge, and the other augmented with up-to-date search results — we illustrate the value of web-enabled augmentation, especially for time-sensitive or rapidly evolving topics.\n",
        "\n"
      ]
    },
    {
      "cell_type": "code",
      "execution_count": null,
      "metadata": {
        "colab": {
          "base_uri": "https://localhost:8080/"
        },
        "id": "ac0b9ce6",
        "outputId": "9678e29e-075d-46e8-91c3-74fcdf03d245"
      },
      "outputs": [
        {
          "name": "stdout",
          "output_type": "stream",
          "text": [
            "\u001b[2K   \u001b[90m━━━━━━━━━━━━━━━━━━━━━━━━━━━━━━━━━━━━━━━━\u001b[0m \u001b[32m2.5/2.5 MB\u001b[0m \u001b[31m17.5 MB/s\u001b[0m eta \u001b[36m0:00:00\u001b[0m\n",
            "\u001b[2K   \u001b[90m━━━━━━━━━━━━━━━━━━━━━━━━━━━━━━━━━━━━━━━━\u001b[0m \u001b[32m65.3/65.3 kB\u001b[0m \u001b[31m3.1 MB/s\u001b[0m eta \u001b[36m0:00:00\u001b[0m\n",
            "\u001b[2K   \u001b[90m━━━━━━━━━━━━━━━━━━━━━━━━━━━━━━━━━━━━━━━━\u001b[0m \u001b[32m438.1/438.1 kB\u001b[0m \u001b[31m15.6 MB/s\u001b[0m eta \u001b[36m0:00:00\u001b[0m\n",
            "\u001b[2K   \u001b[90m━━━━━━━━━━━━━━━━━━━━━━━━━━━━━━━━━━━━━━━━\u001b[0m \u001b[32m363.0/363.0 kB\u001b[0m \u001b[31m13.8 MB/s\u001b[0m eta \u001b[36m0:00:00\u001b[0m\n",
            "\u001b[2K   \u001b[90m━━━━━━━━━━━━━━━━━━━━━━━━━━━━━━━━━━━━━━━━\u001b[0m \u001b[32m44.4/44.4 kB\u001b[0m \u001b[31m1.1 MB/s\u001b[0m eta \u001b[36m0:00:00\u001b[0m\n",
            "\u001b[2K   \u001b[90m━━━━━━━━━━━━━━━━━━━━━━━━━━━━━━━━━━━━━━━━\u001b[0m \u001b[32m50.9/50.9 kB\u001b[0m \u001b[31m2.8 MB/s\u001b[0m eta \u001b[36m0:00:00\u001b[0m\n",
            "\u001b[?25h"
          ]
        }
      ],
      "source": [
        "%pip install --upgrade --quiet  langchain-community langchain-openai"
      ]
    },
    {
      "cell_type": "markdown",
      "metadata": {
        "id": "erje9hJiO_by"
      },
      "source": [
        "#**A basic example of Serper API for web search**"
      ]
    },
    {
      "cell_type": "code",
      "execution_count": null,
      "metadata": {
        "ExecuteTime": {
          "end_time": "2023-05-04T00:56:29.336521Z",
          "start_time": "2023-05-04T00:56:29.334173Z"
        },
        "id": "a8acfb24",
        "jupyter": {
          "outputs_hidden": false
        },
        "pycharm": {
          "is_executing": true
        }
      },
      "outputs": [],
      "source": [
        "import os\n",
        "import pprint\n",
        "\n",
        "os.environ[\"SERPER_API_KEY\"] "
      ]
    },
    {
      "cell_type": "code",
      "execution_count": null,
      "metadata": {
        "ExecuteTime": {
          "end_time": "2023-05-04T00:54:07.676293Z",
          "start_time": "2023-05-04T00:54:06.665742Z"
        },
        "id": "54bf5afd"
      },
      "outputs": [],
      "source": [
        "from langchain_community.utilities import GoogleSerperAPIWrapper\n",
        "\n",
        "search = GoogleSerperAPIWrapper()"
      ]
    },
    {
      "cell_type": "code",
      "execution_count": null,
      "metadata": {
        "ExecuteTime": {
          "end_time": "2023-05-04T00:54:11.399847Z",
          "start_time": "2023-05-04T00:54:09.335597Z"
        },
        "colab": {
          "base_uri": "https://localhost:8080/",
          "height": 35
        },
        "id": "25ce0225",
        "outputId": "c0dbcd16-65f1-488a-c900-7f11ffc083fe"
      },
      "outputs": [
        {
          "data": {
            "application/vnd.google.colaboratory.intrinsic+json": {
              "type": "string"
            },
            "text/plain": [
              "'Barack Hussein Obama II'"
            ]
          },
          "execution_count": 4,
          "metadata": {},
          "output_type": "execute_result"
        }
      ],
      "source": [
        "search.run(\"Obama's first name?\")"
      ]
    },
    {
      "cell_type": "code",
      "execution_count": null,
      "metadata": {
        "colab": {
          "base_uri": "https://localhost:8080/"
        },
        "id": "KsE3hy7JTAtZ",
        "outputId": "9b60525f-7eef-4b52-f7ac-5b9644a0373f"
      },
      "outputs": [
        {
          "name": "stdout",
          "output_type": "stream",
          "text": [
            "{'message': 'Unauthorized.', 'statusCode': 403}\n"
          ]
        }
      ],
      "source": [
        "import requests\n",
        "API_KEY = os.environ[\"X-API-KEY\"]\n",
        "url = \"https://google.serper.dev/search\"\n",
        "headers = {\n",
        "    \"X-API-KEY\": API_KEY,\n",
        "    \"Content-Type\": \"application/json\"\n",
        "}\n",
        "data = {\n",
        "    \"q\": \"Obama's first name?\"\n",
        "}\n",
        "\n",
        "response = requests.post(url, headers=headers, json=data)\n",
        "print(response.json())\n"
      ]
    },
    {
      "cell_type": "code",
      "execution_count": null,
      "metadata": {
        "colab": {
          "base_uri": "https://localhost:8080/"
        },
        "id": "RA2zmk1WUzxn",
        "outputId": "cf7fb5a0-01e6-4053-e829-5aac1ac7e2cf"
      },
      "outputs": [
        {
          "name": "stdout",
          "output_type": "stream",
          "text": [
            "{'search_metadata': {'id': '684982b1b7942f506c6dc765', 'status': 'Success', 'json_endpoint': 'https://serpapi.com/searches/568a6f2ee8c5d728/684982b1b7942f506c6dc765.json', 'created_at': '2025-06-11 13:20:49 UTC', 'processed_at': '2025-06-11 13:20:49 UTC', 'google_url': 'https://www.google.com/search?q=Obama%27s+first+name%3F&oq=Obama%27s+first+name%3F&sourceid=chrome&ie=UTF-8', 'raw_html_file': 'https://serpapi.com/searches/568a6f2ee8c5d728/684982b1b7942f506c6dc765.html', 'total_time_taken': 1.67}, 'search_parameters': {'engine': 'google', 'q': \"Obama's first name?\", 'google_domain': 'google.com', 'device': 'desktop'}, 'search_information': {'query_displayed': \"Obama's first name?\", 'total_results': 23800000, 'time_taken_displayed': 0.48, 'organic_results_state': 'Results for exact spelling'}, 'knowledge_graph': {'title': 'Barack Obama', 'type': '44th U.S. President', 'entity_type': 'people', 'kgmid': '/m/02mjmr', 'knowledge_graph_search_link': 'https://www.google.com/search?kgmid=/m/02mjmr&hl=en-US&q=Barack+Obama', 'serpapi_knowledge_graph_search_link': 'https://serpapi.com/search.json?device=desktop&engine=google&google_domain=google.com&hl=en-US&kgmid=%2Fm%2F02mjmr&q=Barack+Obama', 'description': 'Barack Hussein Obama II is an American politician who was the 44th president of the United States from 2009 to 2017. A member of the Democratic Party, he was the first African American president in American history.', 'source': {'name': 'Wikipedia', 'link': 'https://en.wikipedia.org/wiki/Barack_Obama'}, 'born': 'August 4, 1961 (age 63 years), Kapiʻolani Medical Center for Women & Children, Honolulu, HI', 'born_links': [{'text': 'Kapiʻolani Medical Center for Women & Children, Honolulu, HI', 'link': 'https://www.google.com/search?sca_esv=3df4820f94ed7501&q=Kapiolani+Medical+Center+for+Women+and+Children&si=AMgyJEtRPX4ld4pdQeltMBlsXK6YnLg9be4xryEBJwXFHLOO-F5U7QiZt_Y4ox2Ld8yCk4TN0gfsy_LRT5vFjM8X4QBtBFyuIKx0YjdC0UftI90ZGLFud8_GrHR3GZnnSX-t8dcS29agJntOINvADd-laIM87hXQIQaW2gZj-7GxPCOfKVzNM5J3jqruxCLJT_oIkuIJrJLNT8_YbQk6XqzB1b6vz1q1ZqF4sapCeYyd4COKfE7_PkMNETpSLQPZJwlsDNTAe3tZ&sa=X&ved=2ahUKEwiGyIz0uumNAxU6JxAIHWyYOIIQmxN6BAgzEAI'}], 'presidential_term': 'January 20, 2009 – January 20, 2017', 'vice_president': 'Joe Biden (2009–2017)', 'vice_president_links': [{'text': 'Joe Biden', 'link': 'https://www.google.com/search?sca_esv=3df4820f94ed7501&q=Joe+Biden&si=AMgyJEveiRpRWbYSNPkEPxCUbItHSvun4xkRgDDPLmrOjDx35BIMYkbQ7AFciwB6EN9HrIlnDDfWDo3NLpem1_se-40RtPOvhjdMcsPYt_mdWhj_XdPsxtnw6gAMxRFeTMSGwYKcGLHlbpaZvtD_uqv4zGMZrFB10G0n2VgvZjQdteZad6WZ6PfTkVZZXRoAxpXDzeFQeaXz&sa=X&ved=2ahUKEwiGyIz0uumNAxU6JxAIHWyYOIIQmxN6BAg5EAI'}], 'party': 'Democratic Party', 'party_links': [{'text': 'Democratic Party', 'link': 'https://www.google.com/search?sca_esv=3df4820f94ed7501&q=Democratic+Party&si=AMgyJEveiRpRWbYSNPkEPxCUbItHSvun4xkRgDDPLmrOjDx35B6oqjpOY3hnpfQANDCo6UkLcEE2cRKIl6o7ePkKraCwz4UbOHoFxUp1h2_IFN6bWqZWASB1k1-0SanXkw1bWfzP4wwzhcjY3AzCFLqgCS1MU1170rgWKrwJPTMUFemMpq91En-tATiCGbJL5i2hGt_HxZTfHdRjLRs5EutIrHGd_3CBog%3D%3D&sa=X&ved=2ahUKEwiGyIz0uumNAxU6JxAIHWyYOIIQmxN6BAg2EAI'}], 'height': '6′ 2″', 'children': 'Malia Ann Obama, Sasha Obama', 'children_links': [{'text': 'Malia Ann Obama', 'link': 'https://www.google.com/search?sca_esv=3df4820f94ed7501&q=Malia+Obama&si=AMgyJEtRPX4ld4pdQeltMBlsXK6YnLg9be4xryEBJwXFHLOO-D2wOXVz5k5SwEY7oDa8M_pVd1Hcn0WEk6QfDN7zzD-uSEjgWn2n4hvImMaign-UJMUpaxkQrYqu19I4jkynrCpeHUyeB5JfFyna4mvyYY_T42DTsiewtABtM5f_QifwT6VVz_2DtBEzMz7JBxWAaK4SWvSc21iOEAsrc_1pxDr9uz12c_t6i1TIWZCstAF7kLA7r3Nnzq_mSo86AVz6BHzVyK_DD7PiB2EgeU43NRQvwLa73A%3D%3D&sa=X&ved=2ahUKEwiGyIz0uumNAxU6JxAIHWyYOIIQmxN6BAg4EAI'}, {'text': 'Sasha Obama', 'link': 'https://www.google.com/search?sca_esv=3df4820f94ed7501&q=Sasha+Obama&si=AMgyJEtRPX4ld4pdQeltMBlsXK6YnLg9be4xryEBJwXFHLOO-GbXM3jhkeHuyQlFmduwJPVW9_zWf5Jp47kTlwEmwv33Xi9zzhllmOXhBP6j5lkERqAglnuOFdIgAc-41inVFE3Q4NHv6oooIv608anzx7rxJF-I2Z_Ue5kK4t4Y88_ZjA0ykc5MxCSQlroR_pOfUJPRfyVeGMojywyP15Nlo7KJzufnKCr1WQ5sB04St3qUXNPb4mRPbXL3zERa5DT60ZJ75ckCdP20kZjSTttcU9KhErVniA%3D%3D&sa=X&ved=2ahUKEwiGyIz0uumNAxU6JxAIHWyYOIIQmxN6BAg4EAM'}], 'spouse': 'Michelle Obama (m. 1992)', 'spouse_links': [{'text': 'Michelle Obama', 'link': 'https://www.google.com/search?sca_esv=3df4820f94ed7501&q=Michelle+Obama&si=AMgyJEtRPX4ld4pdQeltMBlsXK6YnLg9be4xryEBJwXFHLOO-HrrqObw0mh4Hyw-vEBWkVcYNfOKNoqMRPDYz5c8GHQ15G0i1o9qOd5qXfEAxl0_iYCX-lNa-G3pvGrlPX8a9UHydKMtVbK26Uj2e3iKZptI7GBNduax_3v03plBIo-YhJYvzMCQ_ck_ZNwltqS0TBUvPcDq-SQSp8KPGl_PPaL4fiTpTA%3D%3D&sa=X&ved=2ahUKEwiGyIz0uumNAxU6JxAIHWyYOIIQmxN6BAg0EAI'}], 'profiles': [{'name': 'X (Twitter)', 'link': 'https://twitter.com/BarackObama', 'image': 'https://serpapi.com/searches/684982b1b7942f506c6dc765/images/cb1f506b5db9b6c12f0fc4b4c459cd69dd8588f8db5f898451575d32296f3887eb66cf4487e69b58.png'}, {'name': 'Instagram', 'link': 'https://www.instagram.com/barackobama', 'image': 'https://serpapi.com/searches/684982b1b7942f506c6dc765/images/cb1f506b5db9b6c12f0fc4b4c459cd69dd8588f8db5f898499b7532ef19532ea929a33dc6889d024.png'}, {'name': 'YouTube', 'link': 'https://www.youtube.com/channel/UCdn86UYrf54lXfVli9CB6Aw', 'image': 'https://serpapi.com/searches/684982b1b7942f506c6dc765/images/cb1f506b5db9b6c12f0fc4b4c459cd69dd8588f8db5f89842ccb06c13ab383ff999d83256c747a8c.png'}, {'name': 'Facebook', 'link': 'https://www.facebook.com/barackobama', 'image': 'https://serpapi.com/searches/684982b1b7942f506c6dc765/images/cb1f506b5db9b6c12f0fc4b4c459cd69dd8588f8db5f898416b4e1e7e268cb3b56ffea8b1e98ba62.png'}]}, 'inline_images': [{'thumbnail': 'https://serpapi.com/searches/684982b1b7942f506c6dc765/images/b5dffd860c08b51e39828c67ded98ecf2f85f3dfafb60925e34e29a5903e6475.jpeg'}], 'related_questions': [{'question': 'Is Obama an African last name?', 'snippet': 'Origins. Obama is a common Fang surname in western Central Africa.', 'title': 'Obama (surname) - Wikipedia', 'link': 'https://en.wikipedia.org/wiki/Obama_(surname)#:~:text=4%20References-,Origins,surname%20in%20western%20Central%20Africa.', 'displayed_link': 'https://en.wikipedia.org › wiki › Obama_(surname)', 'source_logo': 'https://serpapi.com/searches/684982b1b7942f506c6dc765/images/e48fb5b17e6db67fd12c6fbc52bcecc9bed41356fe46932e9e6a8b3b302ef93a.png', 'next_page_token': 'eyJvbnMiOiIxMDA0MSIsImZjIjoiRXFFQkNtSkJUR3QwWDNaSVV6SkhXbWRsU1RCSldGWm5RbGR4VEVsWGVFeG9NRWhpT1ZGUlpVTnBWV0pZWm1aRldVMUpOamR4VG14RVNXRjNOMnB4UmpVM1F6Vk5iVEJEVGxRMFRUQkZVbGhNWVVGdlFUaFRlSFpTWDFoQ05VeElRMU5yTTBSMWR4SVhjMjlLU21GSllXNURjbkpQZDFCQlVEZE1SR2xyVVdjYUlrRkdUVUZIUjNCUlZqWXRjVk10VWtsaVlWSjZiakoyTnpGM2RtZGZVR00wU21jIiwiZmN2IjoiMyIsImVpIjoic29KSmFJYW5DcnJPd1BBUDdMRGlrUWciLCJxYyI6IkNoSnZZbUZ0WVNkeklHWnBjbk4wSUc1aGJXVVFBREVBQUFEZ1hLVFRQMzBWMkI4XyIsInF1ZXN0aW9uIjoiSXMgT2JhbWEgYW4gQWZyaWNhbiBsYXN0IG5hbWU/IiwibGsiOiJHaDFwY3lCdlltRnRZU0JoYmlCaFpuSnBZMkZ1SUd4aGMzUWdibUZ0WlEiLCJicyI6ImMyMlB1d3JDTUJTR2NjM2tXT0x0YkRwbzBUNkFSUkhFUVJ3RnQ1T1kwbURTUUZNSWdrX2c2THY1T21KSkw0TjJPcER6ZmY5X1FuWmtmTEJ3WXFnUk1JTk5ra3RlVG9XMmdBeTFpSVBQSTVyUWtiUmdHZ2hfSWNMSTRweGlBVmNqTEd3eFIzNnJNcWZXQTZCRnljc3lQMGNtZVJ5ODkxRkk1NjUxV09XWUxnZTlRMUt5OGgwT0xSd2xUNFZTb2kxcFR3RW1FcFBYaXpoNHphSWxEVjNqNmNhcl92Sm4tV2V5SmdQZmxHRWhUWVpLRm5kdjE1blBTelNrMUhVUjN1XzN2ZyIsImlkIjoiZmNfc29KSmFJYW5DcnJPd1BBUDdMRGlrUWdfMSJ9', 'serpapi_link': 'https://serpapi.com/search.json?device=desktop&engine=google_related_questions&google_domain=google.com&next_page_token=eyJvbnMiOiIxMDA0MSIsImZjIjoiRXFFQkNtSkJUR3QwWDNaSVV6SkhXbWRsU1RCSldGWm5RbGR4VEVsWGVFeG9NRWhpT1ZGUlpVTnBWV0pZWm1aRldVMUpOamR4VG14RVNXRjNOMnB4UmpVM1F6Vk5iVEJEVGxRMFRUQkZVbGhNWVVGdlFUaFRlSFpTWDFoQ05VeElRMU5yTTBSMWR4SVhjMjlLU21GSllXNURjbkpQZDFCQlVEZE1SR2xyVVdjYUlrRkdUVUZIUjNCUlZqWXRjVk10VWtsaVlWSjZiakoyTnpGM2RtZGZVR00wU21jIiwiZmN2IjoiMyIsImVpIjoic29KSmFJYW5DcnJPd1BBUDdMRGlrUWciLCJxYyI6IkNoSnZZbUZ0WVNkeklHWnBjbk4wSUc1aGJXVVFBREVBQUFEZ1hLVFRQMzBWMkI4XyIsInF1ZXN0aW9uIjoiSXMgT2JhbWEgYW4gQWZyaWNhbiBsYXN0IG5hbWU%2FIiwibGsiOiJHaDFwY3lCdlltRnRZU0JoYmlCaFpuSnBZMkZ1SUd4aGMzUWdibUZ0WlEiLCJicyI6ImMyMlB1d3JDTUJTR2NjM2tXT0x0YkRwbzBUNkFSUkhFUVJ3RnQ1T1kwbURTUUZNSWdrX2c2THY1T21KSkw0TjJPcER6ZmY5X1FuWmtmTEJ3WXFnUk1JTk5ra3RlVG9XMmdBeTFpSVBQSTVyUWtiUmdHZ2hfSWNMSTRweGlBVmNqTEd3eFIzNnJNcWZXQTZCRnljc3lQMGNtZVJ5ODkxRkk1NjUxV09XWUxnZTlRMUt5OGgwT0xSd2xUNFZTb2kxcFR3RW1FcFBYaXpoNHphSWxEVjNqNmNhcl92Sm4tV2V5SmdQZmxHRWhUWVpLRm5kdjE1blBTelNrMUhVUjN1XzN2ZyIsImlkIjoiZmNfc29KSmFJYW5DcnJPd1BBUDdMRGlrUWdfMSJ9'}, {'question': \"What does Barack Obama's name mean in Arabic?\", 'snippet': 'Barack, also spelled Barak or Baraq, is a given name of Arabic origin. From the Semitic root B-R-K, it means \"blessed\" and is most commonly used in its feminine form Baraka(h). The Semitic root is derived from B-R-Q (Hebrew: ב־ר־ק; Arabic: ب-ر-ق), meaning \"lightning\".', 'title': 'Barack (name) - Wikipedia', 'link': 'https://en.wikipedia.org/wiki/Barack_(name)#:~:text=Barack%2C%20also%20spelled%20Barak%20or,)%2C%20meaning%20%22lightning%22.', 'displayed_link': 'https://en.wikipedia.org › wiki › Barack_(name)', 'source_logo': 'https://serpapi.com/searches/684982b1b7942f506c6dc765/images/e48fb5b17e6db67fd12c6fbc52bcecc9e3eef5bdb590b38341aa32ffb1e4e5ea.png', 'next_page_token': 'eyJvbnMiOiIxMDA0MSIsImZjIjoiRXFFQkNtSkJUR3QwWDNaSVV6SkhXbWRsU1RCSldGWm5RbGR4VEVsWGVFeG9NRWhpT1ZGUlpVTnBWV0pZWm1aRldVMUpOamR4VG14RVNXRjNOMnB4UmpVM1F6Vk5iVEJEVGxRMFRUQkZVbGhNWVVGdlFUaFRlSFpTWDFoQ05VeElRMU5yTTBSMWR4SVhjMjlLU21GSllXNURjbkpQZDFCQlVEZE1SR2xyVVdjYUlrRkdUVUZIUjNCUlZqWXRjVk10VWtsaVlWSjZiakoyTnpGM2RtZGZVR00wU21jIiwiZmN2IjoiMyIsImVpIjoic29KSmFJYW5DcnJPd1BBUDdMRGlrUWciLCJxYyI6IkNoSnZZbUZ0WVNkeklHWnBjbk4wSUc1aGJXVVFBREVBQUFEZ1hLVFRQMzBWMkI4XyIsInF1ZXN0aW9uIjoiV2hhdCBkb2VzIEJhcmFjayBPYmFtYSdzIG5hbWUgbWVhbiBpbiBBcmFiaWM/IiwibGsiOiJHaXgzYUdGMElHUnZaWE1nWW1GeVlXTnJJRzlpWVcxaEozTWdibUZ0WlNCdFpXRnVJR2x1SUdGeVlXSnBZdyIsImJzIjoiYzIyUHV3ckNNQlNHY2Mza1dPTHRiRHBvMFQ2QVJSSEVRUndGdDVPWTBtRFNRRk1JZ2tfZzZMdjVPbUpKTDROMk9wRHpmZjlfUW5aa2ZMQndZcWdSTUlOTmtrdGVUb1cyZ0F5MWlJUFBJNXJRa2JSZ0dnaF9JY0xJNHB4aUFWY2pMR3d4UjM2ck1xZldBNkJGeWNzeVAwY21lUnk4OTFGSTU2NTFXT1dZTGdlOVExS3k4aDBPTFJ3bFQ0VlNvaTFwVHdFbUVwUFhpemg0emFJbERWM2o2Y2FyX3ZKbi1XZXlKZ1BmbEdFaFRZWktGbmR2MTVuUFN6U2sxSFVSM3VfM3ZnIiwiaWQiOiJmY19zb0pKYUlhbkNyck93UEFQN0xEaWtRZ18xIn0=', 'serpapi_link': 'https://serpapi.com/search.json?device=desktop&engine=google_related_questions&google_domain=google.com&next_page_token=eyJvbnMiOiIxMDA0MSIsImZjIjoiRXFFQkNtSkJUR3QwWDNaSVV6SkhXbWRsU1RCSldGWm5RbGR4VEVsWGVFeG9NRWhpT1ZGUlpVTnBWV0pZWm1aRldVMUpOamR4VG14RVNXRjNOMnB4UmpVM1F6Vk5iVEJEVGxRMFRUQkZVbGhNWVVGdlFUaFRlSFpTWDFoQ05VeElRMU5yTTBSMWR4SVhjMjlLU21GSllXNURjbkpQZDFCQlVEZE1SR2xyVVdjYUlrRkdUVUZIUjNCUlZqWXRjVk10VWtsaVlWSjZiakoyTnpGM2RtZGZVR00wU21jIiwiZmN2IjoiMyIsImVpIjoic29KSmFJYW5DcnJPd1BBUDdMRGlrUWciLCJxYyI6IkNoSnZZbUZ0WVNkeklHWnBjbk4wSUc1aGJXVVFBREVBQUFEZ1hLVFRQMzBWMkI4XyIsInF1ZXN0aW9uIjoiV2hhdCBkb2VzIEJhcmFjayBPYmFtYSdzIG5hbWUgbWVhbiBpbiBBcmFiaWM%2FIiwibGsiOiJHaXgzYUdGMElHUnZaWE1nWW1GeVlXTnJJRzlpWVcxaEozTWdibUZ0WlNCdFpXRnVJR2x1SUdGeVlXSnBZdyIsImJzIjoiYzIyUHV3ckNNQlNHY2Mza1dPTHRiRHBvMFQ2QVJSSEVRUndGdDVPWTBtRFNRRk1JZ2tfZzZMdjVPbUpKTDROMk9wRHpmZjlfUW5aa2ZMQndZcWdSTUlOTmtrdGVUb1cyZ0F5MWlJUFBJNXJRa2JSZ0dnaF9JY0xJNHB4aUFWY2pMR3d4UjM2ck1xZldBNkJGeWNzeVAwY21lUnk4OTFGSTU2NTFXT1dZTGdlOVExS3k4aDBPTFJ3bFQ0VlNvaTFwVHdFbUVwUFhpemg0emFJbERWM2o2Y2FyX3ZKbi1XZXlKZ1BmbEdFaFRZWktGbmR2MTVuUFN6U2sxSFVSM3VfM3ZnIiwiaWQiOiJmY19zb0pKYUlhbkNyck93UEFQN0xEaWtRZ18xIn0%3D'}, {'question': \"What was Michelle Obama's last name before Obama?\", 'snippet': \"Michelle LaVaughn Robinson was born on January 17, 1964, in Chicago, Illinois, to Fraser Robinson III (1935–1991), a city water plant employee and Democratic precinct captain, and Marian Shields Robinson (1937–2024), a secretary at Spiegel's catalog store.\", 'title': 'Michelle Obama - Wikipedia', 'link': \"https://en.wikipedia.org/wiki/Michelle_Obama#:~:text=Michelle%20LaVaughn%20Robinson%20was%20born,secretary%20at%20Spiegel's%20catalog%20store.\", 'displayed_link': 'https://en.wikipedia.org › wiki › Michelle_Obama', 'source_logo': 'https://serpapi.com/searches/684982b1b7942f506c6dc765/images/e48fb5b17e6db67fd12c6fbc52bcecc9fe45014cd9b4e6919d4eab2c8211c08b.png', 'next_page_token': 'eyJvbnMiOiIxMDA0MSIsImZjIjoiRXFFQkNtSkJUR3QwWDNaSVV6SkhXbWRsU1RCSldGWm5RbGR4VEVsWGVFeG9NRWhpT1ZGUlpVTnBWV0pZWm1aRldVMUpOamR4VG14RVNXRjNOMnB4UmpVM1F6Vk5iVEJEVGxRMFRUQkZVbGhNWVVGdlFUaFRlSFpTWDFoQ05VeElRMU5yTTBSMWR4SVhjMjlLU21GSllXNURjbkpQZDFCQlVEZE1SR2xyVVdjYUlrRkdUVUZIUjNCUlZqWXRjVk10VWtsaVlWSjZiakoyTnpGM2RtZGZVR00wU21jIiwiZmN2IjoiMyIsImVpIjoic29KSmFJYW5DcnJPd1BBUDdMRGlrUWciLCJxYyI6IkNoSnZZbUZ0WVNkeklHWnBjbk4wSUc1aGJXVVFBREVBQUFEZ1hLVFRQMzBWMkI4XyIsInF1ZXN0aW9uIjoiV2hhdCB3YXMgTWljaGVsbGUgT2JhbWEncyBsYXN0IG5hbWUgYmVmb3JlIE9iYW1hPyIsImxrIjoiYzVQU0s4OUlMRkVvVHl4V3lNMU16a2pOeVVsVnlFOUt6RTFVeUVrc0xsSElTOHhOVlVoS1Rjc3ZnZ29EQUEiLCJicyI6ImMyMlB1d3JDTUJTR2NjM2tXT0x0YkRwbzBUNkFSUkhFUVJ3RnQ1T1kwbURTUUZNSWdrX2c2THY1T21KSkw0TjJPcER6ZmY5X1FuWmtmTEJ3WXFnUk1JTk5ra3RlVG9XMmdBeTFpSVBQSTVyUWtiUmdHZ2hfSWNMSTRweGlBVmNqTEd3eFIzNnJNcWZXQTZCRnljc3lQMGNtZVJ5ODkxRkk1NjUxV09XWUxnZTlRMUt5OGgwT0xSd2xUNFZTb2kxcFR3RW1FcFBYaXpoNHphSWxEVjNqNmNhcl92Sm4tV2V5SmdQZmxHRWhUWVpLRm5kdjE1blBTelNrMUhVUjN1XzN2ZyIsImlkIjoiZmNfc29KSmFJYW5DcnJPd1BBUDdMRGlrUWdfMSJ9', 'serpapi_link': 'https://serpapi.com/search.json?device=desktop&engine=google_related_questions&google_domain=google.com&next_page_token=eyJvbnMiOiIxMDA0MSIsImZjIjoiRXFFQkNtSkJUR3QwWDNaSVV6SkhXbWRsU1RCSldGWm5RbGR4VEVsWGVFeG9NRWhpT1ZGUlpVTnBWV0pZWm1aRldVMUpOamR4VG14RVNXRjNOMnB4UmpVM1F6Vk5iVEJEVGxRMFRUQkZVbGhNWVVGdlFUaFRlSFpTWDFoQ05VeElRMU5yTTBSMWR4SVhjMjlLU21GSllXNURjbkpQZDFCQlVEZE1SR2xyVVdjYUlrRkdUVUZIUjNCUlZqWXRjVk10VWtsaVlWSjZiakoyTnpGM2RtZGZVR00wU21jIiwiZmN2IjoiMyIsImVpIjoic29KSmFJYW5DcnJPd1BBUDdMRGlrUWciLCJxYyI6IkNoSnZZbUZ0WVNkeklHWnBjbk4wSUc1aGJXVVFBREVBQUFEZ1hLVFRQMzBWMkI4XyIsInF1ZXN0aW9uIjoiV2hhdCB3YXMgTWljaGVsbGUgT2JhbWEncyBsYXN0IG5hbWUgYmVmb3JlIE9iYW1hPyIsImxrIjoiYzVQU0s4OUlMRkVvVHl4V3lNMU16a2pOeVVsVnlFOUt6RTFVeUVrc0xsSElTOHhOVlVoS1Rjc3ZnZ29EQUEiLCJicyI6ImMyMlB1d3JDTUJTR2NjM2tXT0x0YkRwbzBUNkFSUkhFUVJ3RnQ1T1kwbURTUUZNSWdrX2c2THY1T21KSkw0TjJPcER6ZmY5X1FuWmtmTEJ3WXFnUk1JTk5ra3RlVG9XMmdBeTFpSVBQSTVyUWtiUmdHZ2hfSWNMSTRweGlBVmNqTEd3eFIzNnJNcWZXQTZCRnljc3lQMGNtZVJ5ODkxRkk1NjUxV09XWUxnZTlRMUt5OGgwT0xSd2xUNFZTb2kxcFR3RW1FcFBYaXpoNHphSWxEVjNqNmNhcl92Sm4tV2V5SmdQZmxHRWhUWVpLRm5kdjE1blBTelNrMUhVUjN1XzN2ZyIsImlkIjoiZmNfc29KSmFJYW5DcnJPd1BBUDdMRGlrUWdfMSJ9'}, {'question': 'What nationality was Obama?', 'snippet': 'Barack Obama was born on August 4, 1961, at Kapiolani Medical Center for Women and Children in Honolulu, Hawaii. He is the only president born outside the contiguous 48 states. He was born to an 18-year-old American mother and a 27-year-old Kenyan father.', 'title': 'American', 'info': 'Barack Obama / Nationality', 'link': 'https://en.wikipedia.org/wiki/Barack_Obama#:~:text=Barack%20Obama%20was%20born%20on,%2Dyear%2Dold%20Kenyan%20father.', 'displayed_link': 'https://en.wikipedia.org › wiki › Barack_Obama', 'next_page_token': 'eyJvbnMiOiIxMDA0MSIsImZjIjoiRXFFQkNtSkJUR3QwWDNaSVV6SkhXbWRsU1RCSldGWm5RbGR4VEVsWGVFeG9NRWhpT1ZGUlpVTnBWV0pZWm1aRldVMUpOamR4VG14RVNXRjNOMnB4UmpVM1F6Vk5iVEJEVGxRMFRUQkZVbGhNWVVGdlFUaFRlSFpTWDFoQ05VeElRMU5yTTBSMWR4SVhjMjlLU21GSllXNURjbkpQZDFCQlVEZE1SR2xyVVdjYUlrRkdUVUZIUjNCUlZqWXRjVk10VWtsaVlWSjZiakoyTnpGM2RtZGZVR00wU21jIiwiZmN2IjoiMyIsImVpIjoic29KSmFJYW5DcnJPd1BBUDdMRGlrUWciLCJxYyI6IkNoSnZZbUZ0WVNkeklHWnBjbk4wSUc1aGJXVVFBREVBQUFEZ1hLVFRQMzBWMkI4XyIsInF1ZXN0aW9uIjoiV2hhdCBuYXRpb25hbGl0eSB3YXMgT2JhbWE/IiwibGsiOiJHaHAzYUdGMElHNWhkR2x2Ym1Gc2FYUjVJSGRoY3lCdlltRnRZUSIsImJzIjoiYzIyUHV3ckNNQlNHY2Mza1dPTHRiRHBvMFQ2QVJSSEVRUndGdDVPWTBtRFNRRk1JZ2tfZzZMdjVPbUpKTDROMk9wRHpmZjlfUW5aa2ZMQndZcWdSTUlOTmtrdGVUb1cyZ0F5MWlJUFBJNXJRa2JSZ0dnaF9JY0xJNHB4aUFWY2pMR3d4UjM2ck1xZldBNkJGeWNzeVAwY21lUnk4OTFGSTU2NTFXT1dZTGdlOVExS3k4aDBPTFJ3bFQ0VlNvaTFwVHdFbUVwUFhpemg0emFJbERWM2o2Y2FyX3ZKbi1XZXlKZ1BmbEdFaFRZWktGbmR2MTVuUFN6U2sxSFVSM3VfM3ZnIiwiaWQiOiJmY19zb0pKYUlhbkNyck93UEFQN0xEaWtRZ18xIn0=', 'serpapi_link': 'https://serpapi.com/search.json?device=desktop&engine=google_related_questions&google_domain=google.com&next_page_token=eyJvbnMiOiIxMDA0MSIsImZjIjoiRXFFQkNtSkJUR3QwWDNaSVV6SkhXbWRsU1RCSldGWm5RbGR4VEVsWGVFeG9NRWhpT1ZGUlpVTnBWV0pZWm1aRldVMUpOamR4VG14RVNXRjNOMnB4UmpVM1F6Vk5iVEJEVGxRMFRUQkZVbGhNWVVGdlFUaFRlSFpTWDFoQ05VeElRMU5yTTBSMWR4SVhjMjlLU21GSllXNURjbkpQZDFCQlVEZE1SR2xyVVdjYUlrRkdUVUZIUjNCUlZqWXRjVk10VWtsaVlWSjZiakoyTnpGM2RtZGZVR00wU21jIiwiZmN2IjoiMyIsImVpIjoic29KSmFJYW5DcnJPd1BBUDdMRGlrUWciLCJxYyI6IkNoSnZZbUZ0WVNkeklHWnBjbk4wSUc1aGJXVVFBREVBQUFEZ1hLVFRQMzBWMkI4XyIsInF1ZXN0aW9uIjoiV2hhdCBuYXRpb25hbGl0eSB3YXMgT2JhbWE%2FIiwibGsiOiJHaHAzYUdGMElHNWhkR2x2Ym1Gc2FYUjVJSGRoY3lCdlltRnRZUSIsImJzIjoiYzIyUHV3ckNNQlNHY2Mza1dPTHRiRHBvMFQ2QVJSSEVRUndGdDVPWTBtRFNRRk1JZ2tfZzZMdjVPbUpKTDROMk9wRHpmZjlfUW5aa2ZMQndZcWdSTUlOTmtrdGVUb1cyZ0F5MWlJUFBJNXJRa2JSZ0dnaF9JY0xJNHB4aUFWY2pMR3d4UjM2ck1xZldBNkJGeWNzeVAwY21lUnk4OTFGSTU2NTFXT1dZTGdlOVExS3k4aDBPTFJ3bFQ0VlNvaTFwVHdFbUVwUFhpemg0emFJbERWM2o2Y2FyX3ZKbi1XZXlKZ1BmbEdFaFRZWktGbmR2MTVuUFN6U2sxSFVSM3VfM3ZnIiwiaWQiOiJmY19zb0pKYUlhbkNyck93UEFQN0xEaWtRZ18xIn0%3D'}], 'answer_box': {'type': 'organic_result', 'title': 'Barack Obama - Wikipedia', 'link': 'https://www.google.com/search?sca_esv=3df4820f94ed7501&q=Barack+Obama&stick=H4sIAAAAAAAAAONgFuLUz9U3MMrNyi1SQjAfMZpwC7z8cU9YSnvSmpPXGFW5uIIz8std80oySyqFxLnYoCxeKW4uhC6eRaw8TolFicnZCv5JibmJAE8nf9leAAAA&sa=X&ved=2ahUKEwiGyIz0uumNAxU6JxAIHWyYOIIQ_coHKAB6BAguEAI', 'displayed_link': 'https://en.wikipedia.org › wiki › Barack_Obama', 'snippet': 'Barack Hussein Obama II (born August 4, 1961) is an American politician who was the 44th president of the United States from 2009 to 2017.', 'answer': 'Barack Hussein Obama II', 'favicon': 'https://serpapi.com/searches/684982b1b7942f506c6dc765/images/d08ca0220a42f63727491a35975ce6731239aa647c48b049.png', 'source': 'Wikipedia', 'thumbnail': 'https://serpapi.com/searches/684982b1b7942f506c6dc765/images/d08ca0220a42f63724cbcf116f7f970c9cc4ea7cea78f36a.jpeg'}, 'organic_results': [{'position': 1, 'title': 'birth certificate', 'link': 'https://obamawhitehouse.archives.gov/sites/default/files/rss_viewer/birth-certificate-long-form.pdf', 'redirect_link': 'https://www.google.com/url?sa=t&source=web&rct=j&opi=89978449&url=https://obamawhitehouse.archives.gov/sites/default/files/rss_viewer/birth-certificate-long-form.pdf&ved=2ahUKEwiGyIz0uumNAxU6JxAIHWyYOIIQFnoECBgQAQ', 'displayed_link': 'https://obamawhitehouse.archives.gov › rss_viewer', 'favicon': 'https://serpapi.com/searches/684982b1b7942f506c6dc765/images/5d824a695fc7a51c7314730c2c917c468d44e9dcb0ad23ffa0b04444bbf2f708.jpeg', 'snippet': 'Full Name of Father. BARACK. 9. HUSSEIN. OBAMA. 10. Age of Father. 11. Birthplace (Island, State ...', 'snippet_highlighted_words': ['Full Name', 'OBAMA'], 'rich_snippet': {'top': {'detected_extensions': {'page': 1}, 'extensions': ['1 page']}}, 'source': 'National Archives (.gov)'}, {'position': 2, 'title': 'President Barack Obama', 'link': 'https://www.obamalibrary.gov/obamas/president-barack-obama', 'redirect_link': 'https://www.google.com/url?sa=t&source=web&rct=j&opi=89978449&url=https://www.obamalibrary.gov/obamas/president-barack-obama&ved=2ahUKEwiGyIz0uumNAxU6JxAIHWyYOIIQFnoECEEQAQ', 'displayed_link': 'https://www.obamalibrary.gov › obamas › president-bara...', 'favicon': 'https://serpapi.com/searches/684982b1b7942f506c6dc765/images/5d824a695fc7a51c7314730c2c917c46eafe0fe13aeabc2369147b35397ac19c.png', 'snippet': 'Barack Hussein Obama II was born August 4, 1961, in Honolulu, Hawaii, to parents Barack H. Obama, Sr., and Stanley Ann Dunham.', 'snippet_highlighted_words': ['Barack Hussein Obama II'], 'source': 'Barack Obama Presidential Library (.gov)'}, {'position': 3, 'title': 'Barack Obama - Simple English Wikipedia, the free ...', 'link': 'https://simple.wikipedia.org/wiki/Barack_Obama', 'redirect_link': 'https://www.google.com/url?sa=t&source=web&rct=j&opi=89978449&url=https://simple.wikipedia.org/wiki/Barack_Obama&ved=2ahUKEwiGyIz0uumNAxU6JxAIHWyYOIIQFnoECEUQAQ', 'displayed_link': 'https://simple.wikipedia.org › wiki › Barack_Obama', 'favicon': 'https://serpapi.com/searches/684982b1b7942f506c6dc765/images/5d824a695fc7a51c7314730c2c917c46ffb8da69c75744d821883a45bc07285d.png', 'snippet': 'Barack Obama ; Kwame Raoul · Barack Hussein Obama II. (1961-08-04) August 4, 1961 (age 63) Honolulu, Hawaii, U.S..', 'snippet_highlighted_words': ['Hu'], 'source': 'Wikipedia'}, {'position': 4, 'title': 'berg_b_mem_supp_tro.pdf', 'link': 'https://www.fec.gov/law/litigation/berg_b_mem_supp_tro.pdf', 'redirect_link': 'https://www.google.com/url?sa=t&source=web&rct=j&opi=89978449&url=https://www.fec.gov/law/litigation/berg_b_mem_supp_tro.pdf&ved=2ahUKEwiGyIz0uumNAxU6JxAIHWyYOIIQFnoECEQQAQ', 'displayed_link': 'https://www.fec.gov › law › litigation › berg_b_...', 'favicon': 'https://serpapi.com/searches/684982b1b7942f506c6dc765/images/5d824a695fc7a51c7314730c2c917c462a0f303b96fb44b8aa0cba556b626703.png', 'snippet': 'it specifically asks for \"Full former name(s). Obama put \"None\", when in fact he went by the name Barry Soetoro, and Barry Obama. It is further believed ...', 'snippet_highlighted_words': ['Full', 'name', 'Obama', 'name', 'Obama'], 'rich_snippet': {'top': {'detected_extensions': {'pages': 19}, 'extensions': ['19 pages']}}, 'source': 'FEC (.gov)'}, {'position': 5, 'title': \"What's up with Obama's middle name?\", 'link': 'https://www.quora.com/Whats-up-with-Obamas-middle-name', 'redirect_link': 'https://www.google.com/url?sa=t&source=web&rct=j&opi=89978449&url=https://www.quora.com/Whats-up-with-Obamas-middle-name&ved=2ahUKEwiGyIz0uumNAxU6JxAIHWyYOIIQFnoECFEQAQ', 'displayed_link': '10+ answers · 8 years ago', 'favicon': 'https://serpapi.com/searches/684982b1b7942f506c6dc765/images/5d824a695fc7a51c7314730c2c917c46bf50c57ffdd5d915f4b9919df65136bd.png', 'snippet': 'Hussein, Obama\\'s middle name, is a very common Arabic name, meaning \"good,\" \"handsome,\" or \"beautiful.\"', 'snippet_highlighted_words': [\"Hussein, Obama's middle name\"], 'sitelinks': {'list': [{'title': 'Why did Obama change his middle name from ...', 'link': 'https://www.quora.com/Why-did-Obama-change-his-middle-name-from-Hussein-to-Barack', 'answer_count': 6, 'date': 'Mar 6, 2023'}, {'title': 'If Obama was born with the name he goes by, where ...', 'link': 'https://www.quora.com/If-Obama-was-born-with-the-name-he-goes-by-where-did-the-name-Barry-Soetoro-come-from-I-thought-that-was-his-original-name', 'answer_count': 13, 'date': 'Dec 19, 2018'}]}, 'source': 'Quora'}, {'position': 6, 'title': 'Barack Obama: Life Before the Presidency', 'link': 'https://millercenter.org/president/obama/life-before-the-presidency', 'redirect_link': 'https://www.google.com/url?sa=t&source=web&rct=j&opi=89978449&url=https://millercenter.org/president/obama/life-before-the-presidency&ved=2ahUKEwiGyIz0uumNAxU6JxAIHWyYOIIQFnoECEYQAQ', 'displayed_link': 'https://millercenter.org › president › life-before-the-presi...', 'favicon': 'https://serpapi.com/searches/684982b1b7942f506c6dc765/images/5d824a695fc7a51c7314730c2c917c468c881827fa6ecaf02ae11044b1a1b272.png', 'snippet': 'Barack Hussein Obama II was born on August 4, 1961, in Hawaii. His parents, who met as students at the University of Hawaii, were Ann Dunham, a white American ...', 'snippet_highlighted_words': ['Barack Hussein Obama II'], 'source': 'Miller Center'}, {'position': 7, 'title': 'Barack Obama | Biography, Parents, Education ...', 'link': 'https://www.britannica.com/biography/Barack-Obama', 'redirect_link': 'https://www.google.com/url?sa=t&source=web&rct=j&opi=89978449&url=https://www.britannica.com/biography/Barack-Obama&ved=2ahUKEwiGyIz0uumNAxU6JxAIHWyYOIIQFnoECEcQAQ', 'displayed_link': 'https://www.britannica.com › biography › Barack-Obama', 'favicon': 'https://serpapi.com/searches/684982b1b7942f506c6dc765/images/5d824a695fc7a51c7314730c2c917c462ef1572a67686dcd153a06954ea219fe.png', 'snippet': 'In full: Barack Hussein Obama II · Born: August 4, 1961, Honolulu, Hawaii, U.S. (age 63) · Title / Office: presidency of the United States of America (2009-2017), ...', 'snippet_highlighted_words': ['Barack Hussein Obama II'], 'sitelinks': {'inline': [{'title': 'Politics and ascent to the...', 'link': 'https://www.britannica.com/biography/Barack-Obama/Politics-and-ascent-to-the-presidency'}, {'title': 'Passage of health care reform', 'link': 'https://www.britannica.com/biography/Barack-Obama/Passage-of-health-care-reform'}, {'title': 'More executive action', 'link': 'https://www.britannica.com/biography/Barack-Obama/More-executive-action'}]}, 'source': 'Britannica'}, {'position': 8, 'title': 'Complaint', 'link': 'https://law.osu.edu/electionlaw/litigation/documents/Berg-Complaint-8-21-08.pdf', 'redirect_link': 'https://www.google.com/url?sa=t&source=web&rct=j&opi=89978449&url=https://law.osu.edu/electionlaw/litigation/documents/Berg-Complaint-8-21-08.pdf&ved=2ahUKEwiGyIz0uumNAxU6JxAIHWyYOIIQFnoECEIQAQ', 'displayed_link': 'https://law.osu.edu › Berg-Complaint-8-21-08', 'favicon': 'https://serpapi.com/searches/684982b1b7942f506c6dc765/images/5d824a695fc7a51c7314730c2c917c46f5e406f0186139215069f15a5c9411e9.png', 'author': 'by CA NO', 'snippet': \"Plaintiff has received copies of the school registration where it clearly states Obama's name as Barry Soetoro and lists his citizenship as Indonesian, Obama's.\", 'snippet_highlighted_words': ['Barry Soetoro'], 'rich_snippet': {'top': {'detected_extensions': {'pages': 21}, 'extensions': ['21 pages']}}, 'source': 'Moritz College of Law'}, {'position': 9, 'title': \"Here's why Barack Obama stopped going by 'Barry'\", 'link': 'http://www.bnd.com/living/liv-columns-blogs/answer-man/article162988863.html', 'redirect_link': 'https://www.google.com/url?sa=t&source=web&rct=j&opi=89978449&url=http://www.bnd.com/living/liv-columns-blogs/answer-man/article162988863.html&ved=2ahUKEwiGyIz0uumNAxU6JxAIHWyYOIIQFnoECEMQAQ', 'displayed_link': 'http://www.bnd.com › answer-man › article162988863', 'favicon': 'https://serpapi.com/searches/684982b1b7942f506c6dc765/images/5d824a695fc7a51c7314730c2c917c46533c16e47186b45bd28666a0e5ac74d9.png', 'date': 'Jul 22, 2017', 'snippet': 'I am still curious about the name change from Barry Soetoro to Barack Obama. When he moved from Jakarta to Hawaii to attend high school, he was ...', 'snippet_highlighted_words': ['Barry Soetoro'], 'source': 'Belleville News-Democrat'}], 'related_searches': [{'block_position': 1, 'query': 'Michelle Obama full name', 'link': 'https://www.google.com/search?sca_esv=3df4820f94ed7501&q=Michelle+Obama+full+name&sa=X&ved=2ahUKEwiGyIz0uumNAxU6JxAIHWyYOIIQ1QJ6BAhkEAE', 'serpapi_link': 'https://serpapi.com/search.json?device=desktop&engine=google&google_domain=google.com&q=Michelle+Obama+full+name'}, {'block_position': 1, 'query': 'Barry Soetoro', 'link': 'https://www.google.com/search?sca_esv=3df4820f94ed7501&q=Barry+Soetoro&sa=X&ved=2ahUKEwiGyIz0uumNAxU6JxAIHWyYOIIQ1QJ6BAhjEAE', 'serpapi_link': 'https://serpapi.com/search.json?device=desktop&engine=google&google_domain=google.com&q=Barry+Soetoro'}, {'block_position': 1, 'query': \"Is Barack Obama's real name Barry\", 'link': 'https://www.google.com/search?sca_esv=3df4820f94ed7501&q=Is+Barack+Obama%27s+real+name+Barry&sa=X&ved=2ahUKEwiGyIz0uumNAxU6JxAIHWyYOIIQ1QJ6BAhiEAE', 'serpapi_link': 'https://serpapi.com/search.json?device=desktop&engine=google&google_domain=google.com&q=Is+Barack+Obama%27s+real+name+Barry'}, {'block_position': 1, 'query': 'What is Barack Obama doing now', 'link': 'https://www.google.com/search?sca_esv=3df4820f94ed7501&q=What+is+Barack+Obama+doing+now&sa=X&ved=2ahUKEwiGyIz0uumNAxU6JxAIHWyYOIIQ1QJ6BAhgEAE', 'serpapi_link': 'https://serpapi.com/search.json?device=desktop&engine=google&google_domain=google.com&q=What+is+Barack+Obama+doing+now'}, {'block_position': 1, 'query': 'Where was Obama raised', 'link': 'https://www.google.com/search?sca_esv=3df4820f94ed7501&q=Where+was+Obama+raised&sa=X&ved=2ahUKEwiGyIz0uumNAxU6JxAIHWyYOIIQ1QJ6BAheEAE', 'serpapi_link': 'https://serpapi.com/search.json?device=desktop&engine=google&google_domain=google.com&q=Where+was+Obama+raised'}, {'block_position': 1, 'query': 'When did Obama became President', 'link': 'https://www.google.com/search?sca_esv=3df4820f94ed7501&q=When+did+Obama+became+President&sa=X&ved=2ahUKEwiGyIz0uumNAxU6JxAIHWyYOIIQ1QJ6BAhbEAE', 'serpapi_link': 'https://serpapi.com/search.json?device=desktop&engine=google&google_domain=google.com&q=When+did+Obama+became+President'}, {'block_position': 1, 'query': 'Obama name change', 'link': 'https://www.google.com/search?sca_esv=3df4820f94ed7501&q=Obama+name+change&sa=X&ved=2ahUKEwiGyIz0uumNAxU6JxAIHWyYOIIQ1QJ6BAhZEAE', 'serpapi_link': 'https://serpapi.com/search.json?device=desktop&engine=google&google_domain=google.com&q=Obama+name+change'}, {'block_position': 1, 'query': 'Obama daughter name change', 'link': 'https://www.google.com/search?sca_esv=3df4820f94ed7501&q=Obama+daughter+name+change&sa=X&ved=2ahUKEwiGyIz0uumNAxU6JxAIHWyYOIIQ1QJ6BAhKEAE', 'serpapi_link': 'https://serpapi.com/search.json?device=desktop&engine=google&google_domain=google.com&q=Obama+daughter+name+change'}], 'pagination': {'current': 1, 'next': \"https://www.google.com/search?q=Obama's+first+name?&sca_esv=3df4820f94ed7501&ei=soJJaIanCrrOwPAP7LDikQg&start=10&sa=N&sstk=Ac65TH5Vev9Iwj3lpIzBysnzbLy6-IjZLvTkmtcsVwIcdrHKoQHgykmLc5PEz5445jSHTsqmTmJZ19smj_9rk6eVI51o7aNNcCgTsg&ved=2ahUKEwiGyIz0uumNAxU6JxAIHWyYOIIQ8NMDegQICRAW\", 'other_pages': {'2': \"https://www.google.com/search?q=Obama's+first+name?&sca_esv=3df4820f94ed7501&ei=soJJaIanCrrOwPAP7LDikQg&start=10&sa=N&sstk=Ac65TH5Vev9Iwj3lpIzBysnzbLy6-IjZLvTkmtcsVwIcdrHKoQHgykmLc5PEz5445jSHTsqmTmJZ19smj_9rk6eVI51o7aNNcCgTsg&ved=2ahUKEwiGyIz0uumNAxU6JxAIHWyYOIIQ8tMDegQICRAE\", '3': \"https://www.google.com/search?q=Obama's+first+name?&sca_esv=3df4820f94ed7501&ei=soJJaIanCrrOwPAP7LDikQg&start=20&sa=N&sstk=Ac65TH5Vev9Iwj3lpIzBysnzbLy6-IjZLvTkmtcsVwIcdrHKoQHgykmLc5PEz5445jSHTsqmTmJZ19smj_9rk6eVI51o7aNNcCgTsg&ved=2ahUKEwiGyIz0uumNAxU6JxAIHWyYOIIQ8tMDegQICRAG\", '4': \"https://www.google.com/search?q=Obama's+first+name?&sca_esv=3df4820f94ed7501&ei=soJJaIanCrrOwPAP7LDikQg&start=30&sa=N&sstk=Ac65TH5Vev9Iwj3lpIzBysnzbLy6-IjZLvTkmtcsVwIcdrHKoQHgykmLc5PEz5445jSHTsqmTmJZ19smj_9rk6eVI51o7aNNcCgTsg&ved=2ahUKEwiGyIz0uumNAxU6JxAIHWyYOIIQ8tMDegQICRAI\", '5': \"https://www.google.com/search?q=Obama's+first+name?&sca_esv=3df4820f94ed7501&ei=soJJaIanCrrOwPAP7LDikQg&start=40&sa=N&sstk=Ac65TH5Vev9Iwj3lpIzBysnzbLy6-IjZLvTkmtcsVwIcdrHKoQHgykmLc5PEz5445jSHTsqmTmJZ19smj_9rk6eVI51o7aNNcCgTsg&ved=2ahUKEwiGyIz0uumNAxU6JxAIHWyYOIIQ8tMDegQICRAK\", '6': \"https://www.google.com/search?q=Obama's+first+name?&sca_esv=3df4820f94ed7501&ei=soJJaIanCrrOwPAP7LDikQg&start=50&sa=N&sstk=Ac65TH5Vev9Iwj3lpIzBysnzbLy6-IjZLvTkmtcsVwIcdrHKoQHgykmLc5PEz5445jSHTsqmTmJZ19smj_9rk6eVI51o7aNNcCgTsg&ved=2ahUKEwiGyIz0uumNAxU6JxAIHWyYOIIQ8tMDegQICRAM\", '7': \"https://www.google.com/search?q=Obama's+first+name?&sca_esv=3df4820f94ed7501&ei=soJJaIanCrrOwPAP7LDikQg&start=60&sa=N&sstk=Ac65TH5Vev9Iwj3lpIzBysnzbLy6-IjZLvTkmtcsVwIcdrHKoQHgykmLc5PEz5445jSHTsqmTmJZ19smj_9rk6eVI51o7aNNcCgTsg&ved=2ahUKEwiGyIz0uumNAxU6JxAIHWyYOIIQ8tMDegQICRAO\", '8': \"https://www.google.com/search?q=Obama's+first+name?&sca_esv=3df4820f94ed7501&ei=soJJaIanCrrOwPAP7LDikQg&start=70&sa=N&sstk=Ac65TH5Vev9Iwj3lpIzBysnzbLy6-IjZLvTkmtcsVwIcdrHKoQHgykmLc5PEz5445jSHTsqmTmJZ19smj_9rk6eVI51o7aNNcCgTsg&ved=2ahUKEwiGyIz0uumNAxU6JxAIHWyYOIIQ8tMDegQICRAQ\", '9': \"https://www.google.com/search?q=Obama's+first+name?&sca_esv=3df4820f94ed7501&ei=soJJaIanCrrOwPAP7LDikQg&start=80&sa=N&sstk=Ac65TH5Vev9Iwj3lpIzBysnzbLy6-IjZLvTkmtcsVwIcdrHKoQHgykmLc5PEz5445jSHTsqmTmJZ19smj_9rk6eVI51o7aNNcCgTsg&ved=2ahUKEwiGyIz0uumNAxU6JxAIHWyYOIIQ8tMDegQICRAS\", '10': \"https://www.google.com/search?q=Obama's+first+name?&sca_esv=3df4820f94ed7501&ei=soJJaIanCrrOwPAP7LDikQg&start=90&sa=N&sstk=Ac65TH5Vev9Iwj3lpIzBysnzbLy6-IjZLvTkmtcsVwIcdrHKoQHgykmLc5PEz5445jSHTsqmTmJZ19smj_9rk6eVI51o7aNNcCgTsg&ved=2ahUKEwiGyIz0uumNAxU6JxAIHWyYOIIQ8tMDegQICRAU\"}}, 'serpapi_pagination': {'current': 1, 'next_link': 'https://serpapi.com/search.json?device=desktop&engine=google&google_domain=google.com&q=Obama%27s+first+name%3F&start=10', 'next': 'https://serpapi.com/search.json?device=desktop&engine=google&google_domain=google.com&q=Obama%27s+first+name%3F&start=10', 'other_pages': {'2': 'https://serpapi.com/search.json?device=desktop&engine=google&google_domain=google.com&q=Obama%27s+first+name%3F&start=10', '3': 'https://serpapi.com/search.json?device=desktop&engine=google&google_domain=google.com&q=Obama%27s+first+name%3F&start=20', '4': 'https://serpapi.com/search.json?device=desktop&engine=google&google_domain=google.com&q=Obama%27s+first+name%3F&start=30', '5': 'https://serpapi.com/search.json?device=desktop&engine=google&google_domain=google.com&q=Obama%27s+first+name%3F&start=40', '6': 'https://serpapi.com/search.json?device=desktop&engine=google&google_domain=google.com&q=Obama%27s+first+name%3F&start=50', '7': 'https://serpapi.com/search.json?device=desktop&engine=google&google_domain=google.com&q=Obama%27s+first+name%3F&start=60', '8': 'https://serpapi.com/search.json?device=desktop&engine=google&google_domain=google.com&q=Obama%27s+first+name%3F&start=70', '9': 'https://serpapi.com/search.json?device=desktop&engine=google&google_domain=google.com&q=Obama%27s+first+name%3F&start=80', '10': 'https://serpapi.com/search.json?device=desktop&engine=google&google_domain=google.com&q=Obama%27s+first+name%3F&start=90'}}}\n"
          ]
        }
      ],
      "source": [
        "import requests\n",
        "\n",
        "params = {\n",
        "    \"engine\": \"google\",\n",
        "    \"q\": \"Obama's first name?\",\n",
        "    \"api_key\": API_KEY\n",
        "}\n",
        "\n",
        "response = requests.get(\"https://serpapi.com/search\", params=params)\n",
        "print(response.json())\n"
      ]
    },
    {
      "cell_type": "code",
      "execution_count": null,
      "metadata": {
        "id": "QCSmZJrpUz0I"
      },
      "outputs": [],
      "source": []
    },
    {
      "cell_type": "code",
      "execution_count": null,
      "metadata": {
        "id": "UmPVaO0mUz3B"
      },
      "outputs": [],
      "source": []
    },
    {
      "cell_type": "markdown",
      "metadata": {
        "id": "8j6AzrNDRwV_"
      },
      "source": [
        "#**Now lets do LLM inference by augmenting search results in prompt**"
      ]
    },
    {
      "cell_type": "code",
      "execution_count": null,
      "metadata": {
        "id": "aaq935GlPuyS"
      },
      "outputs": [],
      "source": [
        "!pip install -qU google-generativeai\n"
      ]
    },
    {
      "cell_type": "code",
      "execution_count": null,
      "metadata": {
        "id": "Qx6FksqxPu2i"
      },
      "outputs": [],
      "source": [
        "import google.generativeai as genai"
      ]
    },
    {
      "cell_type": "markdown",
      "metadata": {
        "id": "AY2WR5yVWVVj"
      },
      "source": [
        "#**Example 1: LLM inference without search results or without using web search tool**\n",
        "\n",
        "In this section, we test how the LLM responds without using any web search or external context. This helps establish a baseline by evaluating the model's performance based solely on its internal knowledge without any help from live data or search results.\n",
        "\n"
      ]
    },
    {
      "cell_type": "code",
      "execution_count": null,
      "metadata": {
        "colab": {
          "base_uri": "https://localhost:8080/"
        },
        "id": "J6QwNOXqT6h_",
        "outputId": "86ed2483-abb6-4616-8bc6-02534638c143"
      },
      "outputs": [
        {
          "name": "stdout",
          "output_type": "stream",
          "text": [
            "\n",
            " LLM Response:  Since WWDC 2025 hasn't happened yet, I cannot provide any factual information about what Apple announced at that event. My knowledge is not based on future events.\n",
            "\n"
          ]
        }
      ],
      "source": [
        "from google import genai\n",
        "query = \"What did Apple announce at WWDC 2025?\"\n",
        "prompt = f\"Answer the question: \\n {query}\"\n",
        "client = genai.Client(api_key=os.environ[\"API_KEY\"])\n",
        "\n",
        "response = client.models.generate_content(\n",
        "    model=\"gemini-2.0-flash\", contents=prompt\n",
        ")\n",
        "print('\\n LLM Response: ',response.text)"
      ]
    },
    {
      "cell_type": "markdown",
      "metadata": {
        "id": "b8iM-mEZWGUu"
      },
      "source": [
        "#**LLM inference by augmneting the search results in prompt**\n",
        "\n",
        "* In this part, we enhance the prompt by injecting real-time search results fetched via Serper into the input given to the LLM. The idea is to enrich the model’s context with up-to-date, factual information.\n",
        "\n",
        "* As a result, the LLM is not just relying on its internal training data, but also leveraging current and relevant content retrieved from the web effectively simulating a lightweight RAG system.\n",
        "\n",
        "* This method significantly improves the quality and accuracy of the response, especially for recent or dynamic queries like “What did Apple announce at WWDC 2025?”\n",
        "\n"
      ]
    },
    {
      "cell_type": "code",
      "execution_count": null,
      "metadata": {
        "colab": {
          "base_uri": "https://localhost:8080/"
        },
        "id": "u31YFSQcoENd",
        "outputId": "d25f956e-ed0c-42fa-99f9-fe2d56a41cb6"
      },
      "outputs": [
        {
          "name": "stdout",
          "output_type": "stream",
          "text": [
            "Search Result:  Apple's Biggest Reveals at WWDC 2025: iOS 26, Liquid Glass Design and Call Screening. The annual Apple developers conference delivered goodies for all devices, with fresh looks, updated operating systems and a whole basket of new capabilities.\n",
            "\n",
            " LLM Response:  Based on the search result, Apple announced the following at WWDC 2025:\n",
            "\n",
            "*   **iOS 26**\n",
            "*   **Liquid Glass Design**\n",
            "*   **Call Screening**\n",
            "\n"
          ]
        }
      ],
      "source": [
        "from google import genai\n",
        "\n",
        "query = \"What did Apple announce at WWDC 2025?\"\n",
        "\n",
        "search_results=search.run(query)\n",
        "print('Search Result: ',search_results)\n",
        "\n",
        "client = genai.Client(api_key=os.environ[\"API_KEY\"])\n",
        "prompt = f\"Based on the following search results, answer the question: {query}\\n\\nSearch Results:\\n{search_results}\"\n",
        "\n",
        "response = client.models.generate_content(\n",
        "    model=\"gemini-2.0-flash\", contents=prompt\n",
        ")\n",
        "print('\\n LLM Response: ',response.text)"
      ]
    },
    {
      "cell_type": "code",
      "execution_count": null,
      "metadata": {
        "id": "CNBLaEXNp6rC"
      },
      "outputs": [],
      "source": [
        "import google.generativeai as genai\n",
        "\n",
        "# Correct way to configure\n",
        "genai.configure(api_key=os.environ[\"API_KEY\"])\n",
        "\n",
        "# Load the Gemini model\n",
        "model = genai.GenerativeModel(model_name=\"gemini-1.5-flash\")  # or \"gemini-1.5-pro\"\n"
      ]
    },
    {
      "cell_type": "code",
      "execution_count": null,
      "metadata": {
        "colab": {
          "base_uri": "https://localhost:8080/",
          "height": 108
        },
        "id": "gus2Evpzp6tj",
        "outputId": "87c72871-661f-4ccb-ac0b-624731a83d45"
      },
      "outputs": [
        {
          "name": "stdout",
          "output_type": "stream",
          "text": [
            "search_results {'search_metadata': {'id': '68406df6f357f690d6e38419', 'status': 'Success', 'json_endpoint': 'https://serpapi.com/searches/9adcc690bc02095d/68406df6f357f690d6e38419.json', 'created_at': '2025-06-04 16:01:58 UTC', 'processed_at': '2025-06-04 16:01:58 UTC', 'google_url': 'https://www.google.com/search?q=What+did+Apple+announce+at+WWDC+2025%3F&oq=What+did+Apple+announce+at+WWDC+2025%3F&sourceid=chrome&ie=UTF-8', 'raw_html_file': 'https://serpapi.com/searches/9adcc690bc02095d/68406df6f357f690d6e38419.html', 'total_time_taken': 2.18}, 'search_parameters': {'engine': 'google', 'q': 'What did Apple announce at WWDC 2025?', 'google_domain': 'google.com', 'device': 'desktop'}, 'search_information': {'query_displayed': 'What did Apple announce at WWDC 2025?', 'total_results': 11600000, 'time_taken_displayed': 0.32, 'organic_results_state': 'Results for exact spelling'}, 'inline_videos': [{'position': 1, 'title': 'What Apple Might Reveal at WWDC 2025?', 'link': 'https://www.youtube.com/watch?v=bJlAFIlYNZ0', 'thumbnail': 'https://serpapi.com/searches/68406df6f357f690d6e38419/images/0bf7e39fe818cddf6b57b044553e0739c3d0a19cee0434da446d72779e36830b.jpeg', 'channel': 'iJustine', 'duration': '2:33', 'platform': 'YouTube'}, {'position': 2, 'title': 'WWDC 2025 Preview - iOS 19 is now iOS 26? What To Expect ...', 'link': 'https://www.youtube.com/watch?v=_KAYayuNMns', 'thumbnail': 'https://serpapi.com/searches/68406df6f357f690d6e38419/images/0bf7e39fe818cddfdd77a1795c62f5eaef4875c877992a09e1169fab7a1f6752.jpeg', 'channel': 'Brian Tong', 'duration': '14:45', 'platform': 'YouTube'}, {'position': 3, 'title': 'WWDC 2025 - 5 NEW Products LAUNCHING!', 'link': 'https://www.youtube.com/watch?v=LbBzYp_oNAw', 'thumbnail': 'https://serpapi.com/searches/68406df6f357f690d6e38419/images/0bf7e39fe818cddf8166a9996edc9a5c9944ec1ca51bbc39c33e02e904bfb3f3.jpeg', 'channel': 'Matt Talks Tech', 'duration': '10:28', 'platform': 'YouTube'}], 'short_videos': [{'position': 1, 'title': 'WWDC 2025 is going to be insanity…', 'source': 'YouTube', 'profile_name': 'Will Bowers', 'extensions': ['Will Bowers'], 'source_logo': 'https://serpapi.com/searches/68406df6f357f690d6e38419/images/5ec901b8d44279347ba6bae236405788f026cebfa3d69895488eb26c9c88e426.png', 'clip': 'https://encrypted-vtbn0.gstatic.com/video?q=tbn:ANd9GcQaCOPNK4C2UJDHGOq_upE8HzdLQKczkFJg0Q', 'date': 'May 28, 2025', 'thumbnail': 'https://encrypted-tbn0.gstatic.com/images?q=tbn:ANd9GcRCashyrNFtzG5YQudPduFJYnjnM8_I66xC-c7c94eNEOlkXQ&s', 'link': 'https://www.youtube.com/shorts/s0INVaUqB04'}, {'position': 2, 'title': 'Apple WWDC 2025 Event is HUGE!', 'source': 'YouTube', 'profile_name': 'GregsGadgets', 'extensions': ['GregsGadgets'], 'source_logo': 'https://serpapi.com/searches/68406df6f357f690d6e38419/images/5ec901b8d4427934b5ade3f77c84dad657e41b2af934b1cf26d9c0b7b3663077.png', 'clip': 'https://encrypted-vtbn0.gstatic.com/video?q=tbn:ANd9GcT8cFZL1F7GCqxHZd27HYdGmwCJfV8JqgTbtg', 'date': 'May 20, 2025', 'thumbnail': 'https://encrypted-tbn0.gstatic.com/images?q=tbn:ANd9GcTvaNrLn6xo_lPWh7qbc6I_Qi1TH3fBM_zZEB6sImEaCY9d-w&s', 'link': 'https://www.youtube.com/shorts/xYs07ar_P78'}, {'position': 3, 'title': 'Apple Announces WWDC 2025: What YOU NEED To Know ‼️', 'source': 'YouTube', 'profile_name': 'Nikias Molina', 'extensions': ['Nikias Molina'], 'source_logo': 'https://serpapi.com/searches/68406df6f357f690d6e38419/images/5ec901b8d4427934c13ed2a94e808ed01b607de900bb85561ff5fa44a31e6162.png', 'clip': 'https://encrypted-vtbn0.gstatic.com/video?q=tbn:ANd9GcRv2qZ1qSyPtWtRpm0mOTxxkQBO8uEvBltXJg', 'date': 'Mar 25, 2025', 'thumbnail': 'https://encrypted-tbn0.gstatic.com/images?q=tbn:ANd9GcSEuuktglQkz38xcSqWujYcOJEWq5Pvc5cRr4LZwqmgQsJdKA&s', 'link': 'https://www.youtube.com/shorts/-TLRPv4PSU4'}, {'position': 4, 'title': \"Apple's WWDC 2025 Comes At Interesting Times\", 'source': 'YouTube', 'profile_name': 'Jaime Rivera', 'extensions': ['Jaime Rivera'], 'source_logo': 'https://serpapi.com/searches/68406df6f357f690d6e38419/images/5ec901b8d442793444745c7c82ec345174d15fbb74b77de824f77c38810a181f.png', 'clip': 'https://encrypted-vtbn0.gstatic.com/video?q=tbn:ANd9GcRWClkDso7N02kAf1T1yvYomK0fSHYzcGivzw', 'date': 'May 25, 2025', 'thumbnail': 'https://encrypted-tbn0.gstatic.com/images?q=tbn:ANd9GcQq5tuLewKAjx70k7ZsM6Hvv9gDoKMKhHuEOGRqBOG9FX7hMg&s', 'link': 'https://www.youtube.com/shorts/nXpXuOfMbQQ'}, {'position': 5, 'title': \"Apple's Best Intro Revealed: Hidden Details at WWDC 2025 by appledsign on TikTok. Play on TikTok.\", 'source': 'TikTok', 'profile_name': 'appledsign', 'extensions': ['appledsign'], 'source_logo': 'https://serpapi.com/searches/68406df6f357f690d6e38419/images/5ec901b8d4427934f8c9c283c6ce9e8f05db798cc9e2ef35b018182092627208.png', 'thumbnail': 'https://encrypted-tbn0.gstatic.com/images?q=tbn:ANd9GcRfyZ-qbOofUq6FQSZuzPw2Wd-7MoRgFF_yoZx8sGVzvQB_Yw&s', 'link': 'https://www.tiktok.com/@appledsign/video/7487985703805078806'}, {'position': 6, 'title': 'WWDC 2025 Announced!', 'source': 'YouTube', 'profile_name': 'TWiT Tech Podcast Network', 'extensions': ['TWiT Tech Podcast Network'], 'source_logo': 'https://serpapi.com/searches/68406df6f357f690d6e38419/images/5ec901b8d44279343e73e823151d4da5d986090a95f15ee0288ed9c2d4158db3.png', 'clip': 'https://encrypted-vtbn0.gstatic.com/video?q=tbn:ANd9GcTd0PfPys3xBmyOjpp2ynEyToHoCSOpz-4jVg', 'date': 'Mar 26, 2025', 'thumbnail': 'https://encrypted-tbn0.gstatic.com/images?q=tbn:ANd9GcROrIdKIgk313vnqsIx9DFdK4DoUIxbmeahUhVOM_B8C6sYhA&s', 'link': 'https://www.youtube.com/shorts/oJ_9Zni8tX4'}, {'position': 7, 'title': 'Apple Announces WWDC 2025NEW iOS 19 Circular Design?!', 'source': 'YouTube', 'profile_name': 'Steven Lim', 'extensions': ['Steven Lim'], 'source_logo': 'https://serpapi.com/searches/68406df6f357f690d6e38419/images/5ec901b8d442793401fbd900d89a6e28014d960c89657389a6e2f1e98410fcc7.png', 'clip': 'https://encrypted-vtbn0.gstatic.com/video?q=tbn:ANd9GcSiOAZQSn6xWWRO54MmQUwhlQKFn_-aD1xCCg', 'date': 'Mar 26, 2025', 'thumbnail': 'https://encrypted-tbn0.gstatic.com/images?q=tbn:ANd9GcTetL-0YVIX3YD-w_rUZ68d_oGv3Ra-BXMhyypKWforGaBhNA&s', 'link': 'https://www.youtube.com/shorts/155zxIHKaQA'}, {'position': 8, 'title': \"Apple's New Underrated Announcement\", 'source': 'YouTube', 'profile_name': 'Nikias Molina', 'extensions': ['Nikias Molina'], 'source_logo': 'https://serpapi.com/searches/68406df6f357f690d6e38419/images/5ec901b8d44279344a10e7f60f1b508842b05de3f8cbb868c6a284de91e6741a.png', 'clip': 'https://encrypted-vtbn0.gstatic.com/video?q=tbn:ANd9GcRtm43i2VH05XlGMpMxxAkytgd2--oluBVEBA', 'date': 'Mar 30, 2025', 'thumbnail': 'https://encrypted-tbn0.gstatic.com/images?q=tbn:ANd9GcSjy95E9OCs5as-T6XpmY6tzB95oNvgMTNINWVDrkidhSQo0g&s', 'link': 'https://www.youtube.com/watch?v=40OtRPov6FE'}, {'position': 9, 'title': \"WWDC 2025: Apple's Big Reveal!\", 'source': 'YouTube', 'profile_name': 'Tech Folk Insights', 'extensions': ['Tech Folk Insights'], 'source_logo': 'https://serpapi.com/searches/68406df6f357f690d6e38419/images/5ec901b8d44279342e07cb9af380ae9c907f382ae8c447b6312987eeaad37b98.png', 'clip': 'https://encrypted-vtbn0.gstatic.com/video?q=tbn:ANd9GcQBn7yoiL23WB2xaHpul6z2QToV3sflUGIWkQ', 'date': 'Mar 26, 2025', 'thumbnail': 'https://encrypted-tbn0.gstatic.com/images?q=tbn:ANd9GcS7dZ5UX_9Agpfe0qC7urT5VQQu40AAW-_STFoJlZaqCOrrSg&s', 'link': 'https://www.youtube.com/watch?v=JEq4OUJoZdw'}, {'position': 10, 'title': 'wwdc 2025 is confirmed to be june 9-13! are we excited to see ...', 'source': 'YouTube', 'profile_name': 'Sophia Camarda', 'extensions': ['Sophia Camarda'], 'source_logo': 'https://serpapi.com/searches/68406df6f357f690d6e38419/images/5ec901b8d44279342fdef8d6f1ff8c73112158bbd5c0958b9f1b93a880c2f3a9.png', 'clip': 'https://encrypted-vtbn0.gstatic.com/video?q=tbn:ANd9GcQKgqay9tSg1AH8rIjMiut_uFlepP1zttmBMQ', 'date': 'Mar 25, 2025', 'thumbnail': 'https://encrypted-tbn0.gstatic.com/images?q=tbn:ANd9GcQE0vItRCpBTnFSVIWSJPKC00zMCwQXiWr3Yp1ZJ0HsvWO0jw&s', 'link': 'https://www.youtube.com/watch?v=CZ6jGI75zBg'}], 'related_questions': [{'question': 'What is Apple WWDC 2025?', 'snippet': \"Apple's Worldwide Developers Conference is set to take place next week as the company's annual online conference appears to have major software updates in store. Macworld reports that the company appears set to announce iOS 19 for the iPhone and iPad as well as other software updates.\", 'title': \"WWDC 2025: When, how to watch Apple's June event - USA Today\", 'date': '2 days ago', 'link': \"https://www.usatoday.com/story/tech/2025/06/02/apple-wwdc-2025/83980146007/#:~:text=Apple's%20Worldwide%20Developers%20Conference%20is,well%20as%20other%20software%20updates.\", 'displayed_link': 'https://www.usatoday.com › tech › apple-wwdc-2025', 'source_logo': 'https://serpapi.com/searches/68406df6f357f690d6e38419/images/d4110b91f69527e7602b27a6ef4f297e4cfef9cbcae004bcb173013f6206822c.png', 'next_page_token': 'eyJvbnMiOiIxMDA0MSIsImZjIjoiRXFFQkNtSkJUR3QwWDNaR2MxSnZUVWt4VmxCa1EzVmljWG96TlUxYWVIaGFMWHByUmxoYWVsUjVYMUl4U1VWbFZsWnNiR0l6Ylc5T2VFMXJVMHRGWkRCV1EyNWpkbXhOZVVaYU5UZzVZbkJ3ZW1WMWFFODJibGxxY3pjMFQxQmljRGxCUXpOcGR4SVhPVEl4UVdGUGRtOUhkalpRTkMxRlVEWm1Na2x2UVhjYUlrRkdUVUZIUjNGSlluUmFjMDFQVjA5cE1GaFBUVlpmU25Ob0xXeHdVbVY0T0djIiwiZmN2IjoiMyIsImVpIjoiOTIxQWFPdm9HdjZQNC1FUDZmMklvQXciLCJxYyI6IkNpUjNhR0YwSUdScFpDQmhjSEJzWlNCaGJtNXZkVzVqWlNCaGRDQjNkMlJqSURJd01qVVFBSDFHZmZjLSIsInF1ZXN0aW9uIjoiV2hhdCBpcyBBcHBsZSBXV0RDIDIwMjU/IiwibGsiOiJHaGQzYUdGMElHbHpJR0Z3Y0d4bElIZDNaR01nTWpBeU5RIiwiYnMiOiJjLU95NEpJSXowZ3NVY2dzVm5Bc0tNaEpWUWdQZDNGV01ESXdNcldYdU9kaEpDa2xYZzZWVGdSTGw1ZW5KSU9sdWR5NDVGRjBxaGNyNUtWV2xDZ2taYVlybEdSazVxWGJTengxTWxLUWtrTXhBRU1WbHpXWG9rZC11VUp1YVhLR1FrcC1LbEFkeEEwbG1jblpxU1VLeWZuRkpmWVMxMFNOaEtVRXdaWkR4UXVLTXBOVHVVeTRaR0NPS01tQU9kNUVvYmcwTnpleHFOSmU0cXlFa2FBVVA4VFJjR0VCUmdBIiwiaWQiOiJmY185MjFBYU92b0d2NlA0LUVQNmYySW9Bd18xMyJ9', 'serpapi_link': 'https://serpapi.com/search.json?device=desktop&engine=google_related_questions&google_domain=google.com&next_page_token=eyJvbnMiOiIxMDA0MSIsImZjIjoiRXFFQkNtSkJUR3QwWDNaR2MxSnZUVWt4VmxCa1EzVmljWG96TlUxYWVIaGFMWHByUmxoYWVsUjVYMUl4U1VWbFZsWnNiR0l6Ylc5T2VFMXJVMHRGWkRCV1EyNWpkbXhOZVVaYU5UZzVZbkJ3ZW1WMWFFODJibGxxY3pjMFQxQmljRGxCUXpOcGR4SVhPVEl4UVdGUGRtOUhkalpRTkMxRlVEWm1Na2x2UVhjYUlrRkdUVUZIUjNGSlluUmFjMDFQVjA5cE1GaFBUVlpmU25Ob0xXeHdVbVY0T0djIiwiZmN2IjoiMyIsImVpIjoiOTIxQWFPdm9HdjZQNC1FUDZmMklvQXciLCJxYyI6IkNpUjNhR0YwSUdScFpDQmhjSEJzWlNCaGJtNXZkVzVqWlNCaGRDQjNkMlJqSURJd01qVVFBSDFHZmZjLSIsInF1ZXN0aW9uIjoiV2hhdCBpcyBBcHBsZSBXV0RDIDIwMjU%2FIiwibGsiOiJHaGQzYUdGMElHbHpJR0Z3Y0d4bElIZDNaR01nTWpBeU5RIiwiYnMiOiJjLU95NEpJSXowZ3NVY2dzVm5Bc0tNaEpWUWdQZDNGV01ESXdNcldYdU9kaEpDa2xYZzZWVGdSTGw1ZW5KSU9sdWR5NDVGRjBxaGNyNUtWV2xDZ2taYVlybEdSazVxWGJTengxTWxLUWtrTXhBRU1WbHpXWG9rZC11VUp1YVhLR1FrcC1LbEFkeEEwbG1jblpxU1VLeWZuRkpmWVMxMFNOaEtVRXdaWkR4UXVLTXBOVHVVeTRaR0NPS01tQU9kNUVvYmcwTnpleHFOSmU0cXlFa2FBVVA4VFJjR0VCUmdBIiwiaWQiOiJmY185MjFBYU92b0d2NlA0LUVQNmYySW9Bd18xMyJ9'}, {'question': \"What is Apple's next big thing?\", 'snippet': \"The idea is to have a smart home display, sized like a small iPad, that can move around a person's desk on the end of a robotic arm. Apple also plans to imbue the machine with a unique AI personality. The company wants to get this device to market as soon as possible, but there's been a snag.\", 'title': \"Jony Ive's OpenAI Deal Puts Pressure on Apple to Find Next Big Thing\", 'date': 'May 25, 2025', 'link': \"https://www.bloomberg.com/news/newsletters/2025-05-25/how-jony-ive-openai-deal-will-impact-apple-new-details-on-apple-s-ios-redesign-mb3lwu45#:~:text=The%20idea%20is%20to%20have,but%20there's%20been%20a%20snag.\", 'displayed_link': 'https://www.bloomberg.com › newsletters › 2025-05-25', 'source_logo': 'https://serpapi.com/searches/68406df6f357f690d6e38419/images/d4110b91f69527e7602b27a6ef4f297e05275759101b1f9cae8320062e83e1a4.png', 'next_page_token': 'eyJvbnMiOiIxMDA0MSIsImZjIjoiRXFFQkNtSkJUR3QwWDNaR2MxSnZUVWt4VmxCa1EzVmljWG96TlUxYWVIaGFMWHByUmxoYWVsUjVYMUl4U1VWbFZsWnNiR0l6Ylc5T2VFMXJVMHRGWkRCV1EyNWpkbXhOZVVaYU5UZzVZbkJ3ZW1WMWFFODJibGxxY3pjMFQxQmljRGxCUXpOcGR4SVhPVEl4UVdGUGRtOUhkalpRTkMxRlVEWm1Na2x2UVhjYUlrRkdUVUZIUjNGSlluUmFjMDFQVjA5cE1GaFBUVlpmU25Ob0xXeHdVbVY0T0djIiwiZmN2IjoiMyIsImVpIjoiOTIxQWFPdm9HdjZQNC1FUDZmMklvQXciLCJxYyI6IkNpUjNhR0YwSUdScFpDQmhjSEJzWlNCaGJtNXZkVzVqWlNCaGRDQjNkMlJqSURJd01qVVFBSDFHZmZjLSIsInF1ZXN0aW9uIjoiV2hhdCBpcyBBcHBsZSdzIG5leHQgYmlnIHRoaW5nPyIsImxrIjoiR2g1M2FHRjBJR2x6SUdGd2NHeGxKM01nYm1WNGRDQmlhV2NnZEdocGJtYyIsImJzIjoiYy1PeTRKSUl6MGdzVWNnc1ZuQXNLTWhKVlFnUGQzRldNREl3TXJXWHVPZGhKQ2tsWGc2VlRnUkxsNWVuSklPbHVkeTQ1RkYwcWhjcjVLVldsQ2drWmFZcmxHUms1cVhiU3p4MU1sS1Fra014QUVNVmx6V1hva2QtdVVKdWFYS0dRa3AtS2xBZHhBMGxtY25acVNVS3lmbkZKZllTMTBTTmhLVUV3WlpEeFF1S01wTlR1VXk0WkdDT0tNbUFPZDVFb2JnME56ZXhxTkplNHF5RWthQVVQOFRSY0dFQlJnQSIsImlkIjoiZmNfOTIxQWFPdm9HdjZQNC1FUDZmMklvQXdfMTMifQ==', 'serpapi_link': 'https://serpapi.com/search.json?device=desktop&engine=google_related_questions&google_domain=google.com&next_page_token=eyJvbnMiOiIxMDA0MSIsImZjIjoiRXFFQkNtSkJUR3QwWDNaR2MxSnZUVWt4VmxCa1EzVmljWG96TlUxYWVIaGFMWHByUmxoYWVsUjVYMUl4U1VWbFZsWnNiR0l6Ylc5T2VFMXJVMHRGWkRCV1EyNWpkbXhOZVVaYU5UZzVZbkJ3ZW1WMWFFODJibGxxY3pjMFQxQmljRGxCUXpOcGR4SVhPVEl4UVdGUGRtOUhkalpRTkMxRlVEWm1Na2x2UVhjYUlrRkdUVUZIUjNGSlluUmFjMDFQVjA5cE1GaFBUVlpmU25Ob0xXeHdVbVY0T0djIiwiZmN2IjoiMyIsImVpIjoiOTIxQWFPdm9HdjZQNC1FUDZmMklvQXciLCJxYyI6IkNpUjNhR0YwSUdScFpDQmhjSEJzWlNCaGJtNXZkVzVqWlNCaGRDQjNkMlJqSURJd01qVVFBSDFHZmZjLSIsInF1ZXN0aW9uIjoiV2hhdCBpcyBBcHBsZSdzIG5leHQgYmlnIHRoaW5nPyIsImxrIjoiR2g1M2FHRjBJR2x6SUdGd2NHeGxKM01nYm1WNGRDQmlhV2NnZEdocGJtYyIsImJzIjoiYy1PeTRKSUl6MGdzVWNnc1ZuQXNLTWhKVlFnUGQzRldNREl3TXJXWHVPZGhKQ2tsWGc2VlRnUkxsNWVuSklPbHVkeTQ1RkYwcWhjcjVLVldsQ2drWmFZcmxHUms1cVhiU3p4MU1sS1Fra014QUVNVmx6V1hva2QtdVVKdWFYS0dRa3AtS2xBZHhBMGxtY25acVNVS3lmbkZKZllTMTBTTmhLVUV3WlpEeFF1S01wTlR1VXk0WkdDT0tNbUFPZDVFb2JnME56ZXhxTkplNHF5RWthQVVQOFRSY0dFQlJnQSIsImlkIjoiZmNfOTIxQWFPdm9HdjZQNC1FUDZmMklvQXdfMTMifQ%3D%3D'}, {'question': 'How much does a WWDC ticket cost?', 'snippet': 'The ticket price remained the same as the 2010 WWDC, selling at US$1,599. Apple changed the purchasing process by requiring purchases to be made using an Apple ID associated with a paid Apple developer account.', 'title': 'Worldwide Developers Conference - Wikipedia', 'link': 'https://en.wikipedia.org/wiki/Worldwide_Developers_Conference#:~:text=The%20ticket%20price%20remained%20the,a%20paid%20Apple%20developer%20account.', 'displayed_link': 'https://en.wikipedia.org › wiki › Worldwide_Developers_...', 'source_logo': 'https://serpapi.com/searches/68406df6f357f690d6e38419/images/d4110b91f69527e7602b27a6ef4f297e1b0e88b40977c790aeebc539294682cf.png', 'next_page_token': 'eyJvbnMiOiIxMDA0MSIsImZjIjoiRXFFQkNtSkJUR3QwWDNaR2MxSnZUVWt4VmxCa1EzVmljWG96TlUxYWVIaGFMWHByUmxoYWVsUjVYMUl4U1VWbFZsWnNiR0l6Ylc5T2VFMXJVMHRGWkRCV1EyNWpkbXhOZVVaYU5UZzVZbkJ3ZW1WMWFFODJibGxxY3pjMFQxQmljRGxCUXpOcGR4SVhPVEl4UVdGUGRtOUhkalpRTkMxRlVEWm1Na2x2UVhjYUlrRkdUVUZIUjNGSlluUmFjMDFQVjA5cE1GaFBUVlpmU25Ob0xXeHdVbVY0T0djIiwiZmN2IjoiMyIsImVpIjoiOTIxQWFPdm9HdjZQNC1FUDZmMklvQXciLCJxYyI6IkNpUjNhR0YwSUdScFpDQmhjSEJzWlNCaGJtNXZkVzVqWlNCaGRDQjNkMlJqSURJd01qVVFBSDFHZmZjLSIsInF1ZXN0aW9uIjoiSG93IG11Y2ggZG9lcyBhIFdXREMgdGlja2V0IGNvc3Q/IiwibGsiOiJHaEYzZDJSaklIUnBZMnRsZENCd2NtbGpaUSIsImJzIjoiYy1PeTRKSUl6MGdzVWNnc1ZuQXNLTWhKVlFnUGQzRldNREl3TXJXWHVPZGhKQ2tsWGc2VlRnUkxsNWVuSklPbHVkeTQ1RkYwcWhjcjVLVldsQ2drWmFZcmxHUms1cVhiU3p4MU1sS1Fra014QUVNVmx6V1hva2QtdVVKdWFYS0dRa3AtS2xBZHhBMGxtY25acVNVS3lmbkZKZllTMTBTTmhLVUV3WlpEeFF1S01wTlR1VXk0WkdDT0tNbUFPZDVFb2JnME56ZXhxTkplNHF5RWthQVVQOFRSY0dFQlJnQSIsImlkIjoiZmNfOTIxQWFPdm9HdjZQNC1FUDZmMklvQXdfMTMifQ==', 'serpapi_link': 'https://serpapi.com/search.json?device=desktop&engine=google_related_questions&google_domain=google.com&next_page_token=eyJvbnMiOiIxMDA0MSIsImZjIjoiRXFFQkNtSkJUR3QwWDNaR2MxSnZUVWt4VmxCa1EzVmljWG96TlUxYWVIaGFMWHByUmxoYWVsUjVYMUl4U1VWbFZsWnNiR0l6Ylc5T2VFMXJVMHRGWkRCV1EyNWpkbXhOZVVaYU5UZzVZbkJ3ZW1WMWFFODJibGxxY3pjMFQxQmljRGxCUXpOcGR4SVhPVEl4UVdGUGRtOUhkalpRTkMxRlVEWm1Na2x2UVhjYUlrRkdUVUZIUjNGSlluUmFjMDFQVjA5cE1GaFBUVlpmU25Ob0xXeHdVbVY0T0djIiwiZmN2IjoiMyIsImVpIjoiOTIxQWFPdm9HdjZQNC1FUDZmMklvQXciLCJxYyI6IkNpUjNhR0YwSUdScFpDQmhjSEJzWlNCaGJtNXZkVzVqWlNCaGRDQjNkMlJqSURJd01qVVFBSDFHZmZjLSIsInF1ZXN0aW9uIjoiSG93IG11Y2ggZG9lcyBhIFdXREMgdGlja2V0IGNvc3Q%2FIiwibGsiOiJHaEYzZDJSaklIUnBZMnRsZENCd2NtbGpaUSIsImJzIjoiYy1PeTRKSUl6MGdzVWNnc1ZuQXNLTWhKVlFnUGQzRldNREl3TXJXWHVPZGhKQ2tsWGc2VlRnUkxsNWVuSklPbHVkeTQ1RkYwcWhjcjVLVldsQ2drWmFZcmxHUms1cVhiU3p4MU1sS1Fra014QUVNVmx6V1hva2QtdVVKdWFYS0dRa3AtS2xBZHhBMGxtY25acVNVS3lmbkZKZllTMTBTTmhLVUV3WlpEeFF1S01wTlR1VXk0WkdDT0tNbUFPZDVFb2JnME56ZXhxTkplNHF5RWthQVVQOFRSY0dFQlJnQSIsImlkIjoiZmNfOTIxQWFPdm9HdjZQNC1FUDZmMklvQXdfMTMifQ%3D%3D'}, {'question': 'What is the WWDC 24 summary?', 'snippet': 'At WWDC24, Apple unveiled Apple Intelligence, the personal intelligence system; exciting new features coming to iOS 18, iPadOS 18, macOS Sequoia, watchOS 11, and tvOS 18; and visionOS 2, which brings powerful new ways to interact with Apple Vision Pro.', 'title': 'WWDC24 Highlights - Apple', 'date': 'Jun 10, 2024', 'link': 'https://www.apple.com/newsroom/2024/06/wwdc24-highlights/#:~:text=At%20WWDC24%2C%20Apple%20unveiled%20Apple,interact%20with%20Apple%20Vision%20Pro.', 'displayed_link': 'https://www.apple.com › newsroom › 2024/06 › wwdc24...', 'source_logo': 'https://serpapi.com/searches/68406df6f357f690d6e38419/images/d4110b91f69527e7602b27a6ef4f297e2c28eafcb22c3686581d1776753404f6.png', 'next_page_token': 'eyJvbnMiOiIxMDA0MSIsImZjIjoiRXFFQkNtSkJUR3QwWDNaR2MxSnZUVWt4VmxCa1EzVmljWG96TlUxYWVIaGFMWHByUmxoYWVsUjVYMUl4U1VWbFZsWnNiR0l6Ylc5T2VFMXJVMHRGWkRCV1EyNWpkbXhOZVVaYU5UZzVZbkJ3ZW1WMWFFODJibGxxY3pjMFQxQmljRGxCUXpOcGR4SVhPVEl4UVdGUGRtOUhkalpRTkMxRlVEWm1Na2x2UVhjYUlrRkdUVUZIUjNGSlluUmFjMDFQVjA5cE1GaFBUVlpmU25Ob0xXeHdVbVY0T0djIiwiZmN2IjoiMyIsImVpIjoiOTIxQWFPdm9HdjZQNC1FUDZmMklvQXciLCJxYyI6IkNpUjNhR0YwSUdScFpDQmhjSEJzWlNCaGJtNXZkVzVqWlNCaGRDQjNkMlJqSURJd01qVVFBSDFHZmZjLSIsInF1ZXN0aW9uIjoiV2hhdCBpcyB0aGUgV1dEQyAyNCBzdW1tYXJ5PyIsImxrIjoiR2c5M2QyUmpJREkwSUhOMWJXMWhjbmsiLCJicyI6ImMtT3k0SklJejBnc1VjZ3NWbkFzS01oSlZRZ1BkM0ZXTURJd01yV1h1T2RoSkNrbFhnNlZUZ1JMbDVlbkpJT2x1ZHk0NUZGMHFoY3I1S1ZXbENna1phWXJsR1JrNXFYYlN6eDFNbEtRa2tNeEFFTVZseldYb2tkLXVVSnVhWEtHUWtwLUtsQWR4QTBsbWNuWnFTVUt5Zm5GSmZZUzEwU05oS1VFd1paRHhRdUtNcE5UdVV5NFpHQ09LTW1BT2Q1RW9iZzBOemV4cU5KZTRxeUVrYUFVUDhUUmNHRUJSZ0EiLCJpZCI6ImZjXzkyMUFhT3ZvR3Y2UDQtRVA2ZjJJb0F3XzEzIn0=', 'serpapi_link': 'https://serpapi.com/search.json?device=desktop&engine=google_related_questions&google_domain=google.com&next_page_token=eyJvbnMiOiIxMDA0MSIsImZjIjoiRXFFQkNtSkJUR3QwWDNaR2MxSnZUVWt4VmxCa1EzVmljWG96TlUxYWVIaGFMWHByUmxoYWVsUjVYMUl4U1VWbFZsWnNiR0l6Ylc5T2VFMXJVMHRGWkRCV1EyNWpkbXhOZVVaYU5UZzVZbkJ3ZW1WMWFFODJibGxxY3pjMFQxQmljRGxCUXpOcGR4SVhPVEl4UVdGUGRtOUhkalpRTkMxRlVEWm1Na2x2UVhjYUlrRkdUVUZIUjNGSlluUmFjMDFQVjA5cE1GaFBUVlpmU25Ob0xXeHdVbVY0T0djIiwiZmN2IjoiMyIsImVpIjoiOTIxQWFPdm9HdjZQNC1FUDZmMklvQXciLCJxYyI6IkNpUjNhR0YwSUdScFpDQmhjSEJzWlNCaGJtNXZkVzVqWlNCaGRDQjNkMlJqSURJd01qVVFBSDFHZmZjLSIsInF1ZXN0aW9uIjoiV2hhdCBpcyB0aGUgV1dEQyAyNCBzdW1tYXJ5PyIsImxrIjoiR2c5M2QyUmpJREkwSUhOMWJXMWhjbmsiLCJicyI6ImMtT3k0SklJejBnc1VjZ3NWbkFzS01oSlZRZ1BkM0ZXTURJd01yV1h1T2RoSkNrbFhnNlZUZ1JMbDVlbkpJT2x1ZHk0NUZGMHFoY3I1S1ZXbENna1phWXJsR1JrNXFYYlN6eDFNbEtRa2tNeEFFTVZseldYb2tkLXVVSnVhWEtHUWtwLUtsQWR4QTBsbWNuWnFTVUt5Zm5GSmZZUzEwU05oS1VFd1paRHhRdUtNcE5UdVV5NFpHQ09LTW1BT2Q1RW9iZzBOemV4cU5KZTRxeUVrYUFVUDhUUmNHRUJSZ0EiLCJpZCI6ImZjXzkyMUFhT3ZvR3Y2UDQtRVA2ZjJJb0F3XzEzIn0%3D'}], 'answer_box': {'type': 'organic_result', 'title': 'Which Apple Announcements to Expect From WWDC 2025', 'link': 'https://lifehacker.com/tech/which-apple-announcements-to-expect-from-wwdc-2025#:~:text=Expect%20a%20new%20look%20and,the%20Apple%20Vision%20Pro%20headset).', 'displayed_link': 'https://lifehacker.com › Tech › Apple', 'date': '23 hours ago', 'snippet': \"Expect a new look and feel for iOS, macOS, and more Along with new names, Apple's rumored to be revamping the look and feel of most of its operating systems. These include both iOS 26 and macOS 26, which are expected to follow the design language of visionOS (the operating system for the Apple Vision Pro headset).\", 'snippet_highlighted_words': ['Expect a new look and feel for iOS, macOS, and more'], 'favicon': 'https://serpapi.com/searches/68406df6f357f690d6e38419/images/8fd21febee5ca2a8a9e59bea13fa9a9ddc8a8fca8967b17d.png', 'source': 'Lifehacker'}, 'organic_results': [{'position': 1, 'title': 'WWDC25 - Apple Developer', 'link': 'https://developer.apple.com/wwdc25/', 'redirect_link': 'https://www.google.com/url?sa=t&source=web&rct=j&opi=89978449&url=https://developer.apple.com/wwdc25/&ved=2ahUKEwirwNPvkdiNAxX-xzgGHek-AsQQFnoECC0QAQ', 'displayed_link': 'https://developer.apple.com › wwdc25', 'favicon': 'https://serpapi.com/searches/68406df6f357f690d6e38419/images/0df3a8ce64ada0cb9be0a20ef6f436ca7fdac6eba96121a0362cca8daf9a7850.png', 'snippet': \"Sleek peek. June 9-13, 2025. A week of technology and creativity. All online and free. Here's what WWDC25 has in store: ...\", 'snippet_highlighted_words': ['June 9-13, 2025'], 'sitelinks': {'inline': [{'title': 'Special event at Apple Park', 'link': 'https://developer.apple.com/wwdc25/special-event/'}, {'title': 'Today @ WWDC24: Day 1', 'link': 'https://developer.apple.com/news/?id=20mtt804'}, {'title': 'Meet the community', 'link': 'https://developer.apple.com/wwdc25/community/'}]}, 'source': 'Apple'}, {'position': 2, 'title': 'WWDC 2025: Everything We Know', 'link': 'https://www.macrumors.com/roundup/wwdc/', 'redirect_link': 'https://www.google.com/url?sa=t&source=web&rct=j&opi=89978449&url=https://www.macrumors.com/roundup/wwdc/&ved=2ahUKEwirwNPvkdiNAxX-xzgGHek-AsQQFnoECCoQAQ', 'displayed_link': 'https://www.macrumors.com › roundup › wwdc', 'favicon': 'https://serpapi.com/searches/68406df6f357f690d6e38419/images/0df3a8ce64ada0cb9be0a20ef6f436cad9195e99ed97273a6c9e6ac453b9c0f7.png', 'date': '2 days ago', 'snippet': \"Apple will update the style of icons, menus, apps, windows, and system buttons, with plans to simplify navigation and control. Bloomberg's Mark ...\", 'snippet_highlighted_words': ['Apple will update the style of icons, menus, apps, windows, and system buttons'], 'source': 'MacRumors'}, {'position': 3, 'title': 'WWDC 2025: Everything Apple is expected to announce at ...', 'link': 'https://ca.finance.yahoo.com/news/wwdc-2025-everything-apple-expected-100539263.html', 'redirect_link': 'https://www.google.com/url?sa=t&source=web&rct=j&opi=89978449&url=https://ca.finance.yahoo.com/news/wwdc-2025-everything-apple-expected-100539263.html&ved=2ahUKEwirwNPvkdiNAxX-xzgGHek-AsQQFnoECCwQAQ', 'displayed_link': 'https://ca.finance.yahoo.com › news › wwdc-2025-ever...', 'favicon': 'https://serpapi.com/searches/68406df6f357f690d6e38419/images/0df3a8ce64ada0cb9be0a20ef6f436ca5c1eb67d16070a7a6f0654571ae0e3dd.png', 'date': '6 hours ago', 'snippet': 'In the event, Apple had a great offering: it showed off relatively modest new features such as the ability to summarise notifications, and much ...', 'snippet_highlighted_words': ['Apple had'], 'source': 'Yahoo'}, {'position': 4, 'title': 'Will Apple Announce Any New Hardware at WWDC 2025 ...', 'link': 'https://www.reddit.com/r/apple/comments/1l2fcj4/will_apple_announce_any_new_hardware_at_wwdc_2025/', 'redirect_link': 'https://www.google.com/url?sa=t&source=web&rct=j&opi=89978449&url=https://www.reddit.com/r/apple/comments/1l2fcj4/will_apple_announce_any_new_hardware_at_wwdc_2025/&ved=2ahUKEwirwNPvkdiNAxX-xzgGHek-AsQQFnoECEAQAQ', 'displayed_link': '70+ comments · 1 day ago', 'favicon': 'https://serpapi.com/searches/68406df6f357f690d6e38419/images/0df3a8ce64ada0cb9be0a20ef6f436cae20594d4d938284019c2e1a58e933b00.png', 'snippet': '4 of the last 10 WWDCs featured at least one new hardware product announcement, 5 if you include the ARM developer kit. 2015: None.', 'snippet_highlighted_words': ['announcement'], 'sitelinks': {'list': [{'title': 'Apple Announces WWDC 2025 Event for June 9 to ...', 'link': 'https://www.reddit.com/r/mac/comments/1jjpnph/apple_announces_wwdc_2025_event_for_june_9_to_13/', 'answer_count': 23, 'date': 'Mar 25, 2025'}, {'title': \"Apple Shares New 'Sleek Peek' Teaser Ahead of ...\", 'link': 'https://www.reddit.com/r/apple/comments/1l1kyfy/apple_shares_new_sleek_peek_teaser_ahead_of_wwdc/', 'answer_count': 200, 'date': 'Jun 2, 2025'}]}, 'source': 'Reddit · r/apple'}, {'position': 5, 'title': 'Apple WWDC 2025: What we expect including new iOS ...', 'link': 'https://www.engadget.com/mobile/smartphones/apple-wwdc-2025-what-we-expect-including-new-ios-software-updates-macos-ai-and-more-210051784.html', 'redirect_link': 'https://www.google.com/url?sa=t&source=web&rct=j&opi=89978449&url=https://www.engadget.com/mobile/smartphones/apple-wwdc-2025-what-we-expect-including-new-ios-software-updates-macos-ai-and-more-210051784.html&ved=2ahUKEwirwNPvkdiNAxX-xzgGHek-AsQQFnoECCkQAQ', 'displayed_link': 'https://www.engadget.com › mobile › smartphones › ap...', 'favicon': 'https://serpapi.com/searches/68406df6f357f690d6e38419/images/0df3a8ce64ada0cb9be0a20ef6f436cabc71b8ef8cdf1d7a81e5ae2121d70628.png', 'date': '2 days ago', 'snippet': \"Apple WWDC 2025: What we expect including new iOS software updates, macOS, AI and more · We may finally get a truly 'Pro' iPadOS this year, too.\", 'snippet_highlighted_words': ['new iOS software updates, macOS, AI and more'], 'source': 'Engadget'}, {'position': 6, 'title': \"Apple's Worldwide Developers Conference kicks off June 9\", 'link': 'https://www.apple.com/ca/newsroom/2025/05/apples-worldwide-developers-conference-kicks-off-june-9/', 'redirect_link': 'https://www.google.com/url?sa=t&source=web&rct=j&opi=89978449&url=https://www.apple.com/ca/newsroom/2025/05/apples-worldwide-developers-conference-kicks-off-june-9/&ved=2ahUKEwirwNPvkdiNAxX-xzgGHek-AsQQFnoECCgQAQ', 'displayed_link': 'https://www.apple.com › newsroom › 2025/05 › apples-...', 'favicon': 'https://serpapi.com/searches/68406df6f357f690d6e38419/images/0df3a8ce64ada0cb9be0a20ef6f436cacc995f0f314fb58ed492aae0bdbf1f43.png', 'date': 'May 20, 2025', 'snippet': 'Today, Apple unveiled an exciting lineup for its annual Worldwide Developers Conference, including the Keynote address.', 'snippet_highlighted_words': ['exciting lineup for its annual Worldwide Developers Conference'], 'source': 'Apple'}], 'top_stories': [{'title': 'Will Apple Announce Any New Hardware at WWDC 2025 Next Week?', 'link': 'https://www.macrumors.com/2025/06/03/wwdc-2025-new-hardware-or-not/', 'source': 'MacRumors', 'source_logo': 'https://serpapi.com/searches/68406df6f357f690d6e38419/images/46701b2904340755a9a3879399e6ccb54707632192110e49970ef55469fe8b10.png', 'date': '1 day ago', 'thumbnail': 'https://serpapi.com/searches/68406df6f357f690d6e38419/images/46701b29043407557266a6e046fbb30919d2032898f620b0.jpeg'}, {'title': 'Which Apple Announcements to Expect From WWDC 2025', 'link': 'https://lifehacker.com/tech/which-apple-announcements-to-expect-from-wwdc-2025', 'source': 'Lifehacker', 'source_logo': 'https://serpapi.com/searches/68406df6f357f690d6e38419/images/46701b29043407558a05c395e0b78aa2a20fcbfd264fd8e5bcd559dff509bf77.png', 'date': '23 hours ago', 'thumbnail': 'https://serpapi.com/searches/68406df6f357f690d6e38419/images/46701b29043407554dfc5e5760c1af1b103507963a36b809.jpeg'}, {'title': 'Apple WWDC 2025 preview: iOS updates, macOS, AI and other news we expect next week', 'link': 'https://www.engadget.com/mobile/smartphones/apple-wwdc-2025-preview-ios-updates-macos-ai-and-other-news-we-expect-next-week-210051033.html', 'source': 'Engadget', 'source_logo': 'https://serpapi.com/searches/68406df6f357f690d6e38419/images/46701b2904340755ce7a74edcaa6aa0f622a4d2e459bef5e70ed0953efc6c57c.png', 'date': '20 minutes ago', 'thumbnail': 'https://serpapi.com/searches/68406df6f357f690d6e38419/images/46701b29043407556adaaedb2d3aa2512c4901879d149378.jpeg'}, {'title': \"WWDC 2025: How to Watch Apple's June 9 Software Event and iOS 19 Reveal\", 'link': 'https://www.cnet.com/tech/services-and-software/wwdc-2025-how-to-watch-apples-june-9-software-event-and-ios-19-reveal/', 'source': 'CNET', 'source_logo': 'https://serpapi.com/searches/68406df6f357f690d6e38419/images/46701b29043407559844fdf2d178deaddf966ab2e51c52bf4de101bfabced74b.png', 'date': '5 hours ago', 'thumbnail': 'https://serpapi.com/searches/68406df6f357f690d6e38419/images/46701b2904340755233b0940f47b13d685f679091212f426.jpeg'}], 'top_stories_link': 'https://www.google.com/search?sca_esv=5ed3572dacaed608&q=What+did+Apple+announce+at+WWDC+2025%3F&tbm=nws&source=univ&tbo=u&sa=X&ved=2ahUKEwirwNPvkdiNAxX-xzgGHek-AsQQt8YBKAF6BAgVEAM', 'top_stories_serpapi_link': 'https://serpapi.com/search.json?device=desktop&engine=google&google_domain=google.com&q=What+did+Apple+announce+at+WWDC+2025%3F&tbm=nws', 'related_searches': [{'block_position': 1, 'query': 'Wwdc 2025 rumors', 'link': 'https://www.google.com/search?sca_esv=5ed3572dacaed608&q=Wwdc+2025+rumors&sa=X&ved=2ahUKEwirwNPvkdiNAxX-xzgGHek-AsQQ1QJ6BAg_EAE', 'serpapi_link': 'https://serpapi.com/search.json?device=desktop&engine=google&google_domain=google.com&q=Wwdc+2025+rumors'}, {'block_position': 1, 'query': 'When is apple wwdc 2025', 'link': 'https://www.google.com/search?sca_esv=5ed3572dacaed608&q=When+is+apple+wwdc+2025&sa=X&ved=2ahUKEwirwNPvkdiNAxX-xzgGHek-AsQQ1QJ6BAg8EAE', 'serpapi_link': 'https://serpapi.com/search.json?device=desktop&engine=google&google_domain=google.com&q=When+is+apple+wwdc+2025'}, {'block_position': 1, 'query': 'Apple event 2025', 'link': 'https://www.google.com/search?sca_esv=5ed3572dacaed608&q=Apple+event+2025&sa=X&ved=2ahUKEwirwNPvkdiNAxX-xzgGHek-AsQQ1QJ6BAg2EAE', 'serpapi_link': 'https://serpapi.com/search.json?device=desktop&engine=google&google_domain=google.com&q=Apple+event+2025'}, {'block_position': 1, 'query': 'WWDC 2025 tickets', 'link': 'https://www.google.com/search?sca_esv=5ed3572dacaed608&q=WWDC+2025+tickets&sa=X&ved=2ahUKEwirwNPvkdiNAxX-xzgGHek-AsQQ1QJ6BAgvEAE', 'serpapi_link': 'https://serpapi.com/search.json?device=desktop&engine=google&google_domain=google.com&q=WWDC+2025+tickets'}, {'block_position': 1, 'query': 'Apple event 2025 date', 'link': 'https://www.google.com/search?sca_esv=5ed3572dacaed608&q=Apple+event+2025+date&sa=X&ved=2ahUKEwirwNPvkdiNAxX-xzgGHek-AsQQ1QJ6BAguEAE', 'serpapi_link': 'https://serpapi.com/search.json?device=desktop&engine=google&google_domain=google.com&q=Apple+event+2025+date'}, {'block_position': 1, 'query': 'WWDC 25', 'link': 'https://www.google.com/search?sca_esv=5ed3572dacaed608&q=WWDC+25&sa=X&ved=2ahUKEwirwNPvkdiNAxX-xzgGHek-AsQQ1QJ6BAgrEAE', 'serpapi_link': 'https://serpapi.com/search.json?device=desktop&engine=google&google_domain=google.com&q=WWDC+25'}, {'block_position': 1, 'query': 'WWDC 2025 leaks', 'link': 'https://www.google.com/search?sca_esv=5ed3572dacaed608&q=WWDC+2025+leaks&sa=X&ved=2ahUKEwirwNPvkdiNAxX-xzgGHek-AsQQ1QJ6BAgmEAE', 'serpapi_link': 'https://serpapi.com/search.json?device=desktop&engine=google&google_domain=google.com&q=WWDC+2025+leaks'}, {'block_position': 1, 'query': 'WWDC 2025 Apple TV', 'link': 'https://www.google.com/search?sca_esv=5ed3572dacaed608&q=WWDC+2025+Apple+TV&sa=X&ved=2ahUKEwirwNPvkdiNAxX-xzgGHek-AsQQ1QJ6BAglEAE', 'serpapi_link': 'https://serpapi.com/search.json?device=desktop&engine=google&google_domain=google.com&q=WWDC+2025+Apple+TV'}], 'pagination': {'current': 1, 'next': 'https://www.google.com/search?q=What+did+Apple+announce+at+WWDC+2025?&sca_esv=5ed3572dacaed608&ei=921AaOvoGv6P4-EP6f2IoAw&start=10&sa=N&sstk=Ac65TH4-4PVpOEv3RAB0JaNKtYHpoG8-_4oTbtkEIZxMPd7lxZssWB_qV52Z_TQXSOl-FdXXHspDZuhIN0SESvJjNBJoLX4PlrN_eg&ved=2ahUKEwirwNPvkdiNAxX-xzgGHek-AsQQ8NMDegQIBxAW', 'other_pages': {'2': 'https://www.google.com/search?q=What+did+Apple+announce+at+WWDC+2025?&sca_esv=5ed3572dacaed608&ei=921AaOvoGv6P4-EP6f2IoAw&start=10&sa=N&sstk=Ac65TH4-4PVpOEv3RAB0JaNKtYHpoG8-_4oTbtkEIZxMPd7lxZssWB_qV52Z_TQXSOl-FdXXHspDZuhIN0SESvJjNBJoLX4PlrN_eg&ved=2ahUKEwirwNPvkdiNAxX-xzgGHek-AsQQ8tMDegQIBxAE', '3': 'https://www.google.com/search?q=What+did+Apple+announce+at+WWDC+2025?&sca_esv=5ed3572dacaed608&ei=921AaOvoGv6P4-EP6f2IoAw&start=20&sa=N&sstk=Ac65TH4-4PVpOEv3RAB0JaNKtYHpoG8-_4oTbtkEIZxMPd7lxZssWB_qV52Z_TQXSOl-FdXXHspDZuhIN0SESvJjNBJoLX4PlrN_eg&ved=2ahUKEwirwNPvkdiNAxX-xzgGHek-AsQQ8tMDegQIBxAG', '4': 'https://www.google.com/search?q=What+did+Apple+announce+at+WWDC+2025?&sca_esv=5ed3572dacaed608&ei=921AaOvoGv6P4-EP6f2IoAw&start=30&sa=N&sstk=Ac65TH4-4PVpOEv3RAB0JaNKtYHpoG8-_4oTbtkEIZxMPd7lxZssWB_qV52Z_TQXSOl-FdXXHspDZuhIN0SESvJjNBJoLX4PlrN_eg&ved=2ahUKEwirwNPvkdiNAxX-xzgGHek-AsQQ8tMDegQIBxAI', '5': 'https://www.google.com/search?q=What+did+Apple+announce+at+WWDC+2025?&sca_esv=5ed3572dacaed608&ei=921AaOvoGv6P4-EP6f2IoAw&start=40&sa=N&sstk=Ac65TH4-4PVpOEv3RAB0JaNKtYHpoG8-_4oTbtkEIZxMPd7lxZssWB_qV52Z_TQXSOl-FdXXHspDZuhIN0SESvJjNBJoLX4PlrN_eg&ved=2ahUKEwirwNPvkdiNAxX-xzgGHek-AsQQ8tMDegQIBxAK', '6': 'https://www.google.com/search?q=What+did+Apple+announce+at+WWDC+2025?&sca_esv=5ed3572dacaed608&ei=921AaOvoGv6P4-EP6f2IoAw&start=50&sa=N&sstk=Ac65TH4-4PVpOEv3RAB0JaNKtYHpoG8-_4oTbtkEIZxMPd7lxZssWB_qV52Z_TQXSOl-FdXXHspDZuhIN0SESvJjNBJoLX4PlrN_eg&ved=2ahUKEwirwNPvkdiNAxX-xzgGHek-AsQQ8tMDegQIBxAM', '7': 'https://www.google.com/search?q=What+did+Apple+announce+at+WWDC+2025?&sca_esv=5ed3572dacaed608&ei=921AaOvoGv6P4-EP6f2IoAw&start=60&sa=N&sstk=Ac65TH4-4PVpOEv3RAB0JaNKtYHpoG8-_4oTbtkEIZxMPd7lxZssWB_qV52Z_TQXSOl-FdXXHspDZuhIN0SESvJjNBJoLX4PlrN_eg&ved=2ahUKEwirwNPvkdiNAxX-xzgGHek-AsQQ8tMDegQIBxAO', '8': 'https://www.google.com/search?q=What+did+Apple+announce+at+WWDC+2025?&sca_esv=5ed3572dacaed608&ei=921AaOvoGv6P4-EP6f2IoAw&start=70&sa=N&sstk=Ac65TH4-4PVpOEv3RAB0JaNKtYHpoG8-_4oTbtkEIZxMPd7lxZssWB_qV52Z_TQXSOl-FdXXHspDZuhIN0SESvJjNBJoLX4PlrN_eg&ved=2ahUKEwirwNPvkdiNAxX-xzgGHek-AsQQ8tMDegQIBxAQ', '9': 'https://www.google.com/search?q=What+did+Apple+announce+at+WWDC+2025?&sca_esv=5ed3572dacaed608&ei=921AaOvoGv6P4-EP6f2IoAw&start=80&sa=N&sstk=Ac65TH4-4PVpOEv3RAB0JaNKtYHpoG8-_4oTbtkEIZxMPd7lxZssWB_qV52Z_TQXSOl-FdXXHspDZuhIN0SESvJjNBJoLX4PlrN_eg&ved=2ahUKEwirwNPvkdiNAxX-xzgGHek-AsQQ8tMDegQIBxAS', '10': 'https://www.google.com/search?q=What+did+Apple+announce+at+WWDC+2025?&sca_esv=5ed3572dacaed608&ei=921AaOvoGv6P4-EP6f2IoAw&start=90&sa=N&sstk=Ac65TH4-4PVpOEv3RAB0JaNKtYHpoG8-_4oTbtkEIZxMPd7lxZssWB_qV52Z_TQXSOl-FdXXHspDZuhIN0SESvJjNBJoLX4PlrN_eg&ved=2ahUKEwirwNPvkdiNAxX-xzgGHek-AsQQ8tMDegQIBxAU'}}, 'serpapi_pagination': {'current': 1, 'next_link': 'https://serpapi.com/search.json?device=desktop&engine=google&google_domain=google.com&q=What+did+Apple+announce+at+WWDC+2025%3F&start=10', 'next': 'https://serpapi.com/search.json?device=desktop&engine=google&google_domain=google.com&q=What+did+Apple+announce+at+WWDC+2025%3F&start=10', 'other_pages': {'2': 'https://serpapi.com/search.json?device=desktop&engine=google&google_domain=google.com&q=What+did+Apple+announce+at+WWDC+2025%3F&start=10', '3': 'https://serpapi.com/search.json?device=desktop&engine=google&google_domain=google.com&q=What+did+Apple+announce+at+WWDC+2025%3F&start=20', '4': 'https://serpapi.com/search.json?device=desktop&engine=google&google_domain=google.com&q=What+did+Apple+announce+at+WWDC+2025%3F&start=30', '5': 'https://serpapi.com/search.json?device=desktop&engine=google&google_domain=google.com&q=What+did+Apple+announce+at+WWDC+2025%3F&start=40', '6': 'https://serpapi.com/search.json?device=desktop&engine=google&google_domain=google.com&q=What+did+Apple+announce+at+WWDC+2025%3F&start=50', '7': 'https://serpapi.com/search.json?device=desktop&engine=google&google_domain=google.com&q=What+did+Apple+announce+at+WWDC+2025%3F&start=60', '8': 'https://serpapi.com/search.json?device=desktop&engine=google&google_domain=google.com&q=What+did+Apple+announce+at+WWDC+2025%3F&start=70', '9': 'https://serpapi.com/search.json?device=desktop&engine=google&google_domain=google.com&q=What+did+Apple+announce+at+WWDC+2025%3F&start=80', '10': 'https://serpapi.com/search.json?device=desktop&engine=google&google_domain=google.com&q=What+did+Apple+announce+at+WWDC+2025%3F&start=90'}}}\n",
            "\n",
            "LLM Response (RAG): The provided text doesn't state definitively what Apple announced at WWDC 2025.  It mentions *expectations* including new iOS and macOS software updates, possibly a \"Pro\" iPadOS, and an update to the style of icons, menus, and other interface elements.  It also notes that modest new features like notification summarization were shown, but doesn't detail a full list of announcements.  The text highlights the event itself and some predictions rather than a recap of the actual announcements.\n",
            "\n"
          ]
        }
      ],
      "source": [
        "import google.generativeai as genai\n",
        "import requests\n",
        "\n",
        "# 1. Set up Gemini\n",
        "# genai.configure(api_key=\"YOUR_GEMINI_API_KEY\")\n",
        "# model = genai.GenerativeModel(model_name=\"gemini-1.5-flash\")\n",
        "\n",
        "# 2. Your query\n",
        "query = \"What did Apple announce at WWDC 2025?\"\n",
        "\n",
        "# 3. Use SerpAPI to search (not Serper)\n",
        "params = {\n",
        "    \"engine\": \"google\",\n",
        "    \"q\": query,\n",
        "    \"api_key\": os.environ[\"X-API-KEY\"]\n",
        "}\n",
        "search_response = requests.get(\"https://serpapi.com/search\", params=params)\n",
        "search_results = search_response.json()\n",
        "print(\"search_results\", search_results)\n",
        "# 4. Extract snippets from results\n",
        "snippets = []\n",
        "for result in search_results.get(\"organic_results\", []):\n",
        "    snippet = result.get(\"snippet\")\n",
        "    if snippet:\n",
        "        snippets.append(snippet)\n",
        "\n",
        "# 5. Build prompt for Gemini\n",
        "summarized_results = \"\\n\".join(snippets)\n",
        "prompt = f\"Based on the following search results, answer the question:\\n{query}\\n\\nSearch Results:\\n{summarized_results}\"\n",
        "\n",
        "# 6. Get response from Gemini\n",
        "response = model.generate_content(prompt)\n",
        "print(\"\\nLLM Response (RAG):\", response.text)\n"
      ]
    },
    {
      "cell_type": "markdown",
      "metadata": {
        "id": "cO0mcpD1WRvZ"
      },
      "source": [
        "#**OpenAI**"
      ]
    },
    {
      "cell_type": "code",
      "execution_count": null,
      "metadata": {
        "id": "16__d5ein_s7"
      },
      "outputs": [],
      "source": [
        "import os\n",
        "import requests\n",
        "import json\n",
        "from google import genai\n",
        "\n",
        "# Set up API keys from environment variables\n",
        "SERPER_API_KEY = os.environ.get(\"Open_SERPER_API_KEY\")\n",
        "api_key = os.environ.get(\"OpenAI_API_KEY\")\n",
        "organization_id = os.environ.get(\"OpenAI_Organization_ID\")\n",
        "project_id = os.environ.get(\"OpenAI_Project_ID\")\n"
      ]
    },
    {
      "cell_type": "code",
      "execution_count": null,
      "metadata": {
        "colab": {
          "base_uri": "https://localhost:8080/"
        },
        "id": "4LKvrrlIn_yG",
        "outputId": "e6911676-1740-476b-d084-55b08f8db3fe"
      },
      "outputs": [
        {
          "name": "stdout",
          "output_type": "stream",
          "text": [
            "Collecting redis\n",
            "  Downloading redis-6.2.0-py3-none-any.whl.metadata (10 kB)\n",
            "Downloading redis-6.2.0-py3-none-any.whl (278 kB)\n",
            "\u001b[?25l   \u001b[90m━━━━━━━━━━━━━━━━━━━━━━━━━━━━━━━━━━━━━━━━\u001b[0m \u001b[32m0.0/278.7 kB\u001b[0m \u001b[31m?\u001b[0m eta \u001b[36m-:--:--\u001b[0m\r\u001b[2K   \u001b[91m━━━━━━━━━━━━━━━━━━━━━━\u001b[0m\u001b[90m╺\u001b[0m\u001b[90m━━━━━━━━━━━━━━━━━\u001b[0m \u001b[32m153.6/278.7 kB\u001b[0m \u001b[31m4.4 MB/s\u001b[0m eta \u001b[36m0:00:01\u001b[0m\r\u001b[2K   \u001b[90m━━━━━━━━━━━━━━━━━━━━━━━━━━━━━━━━━━━━━━━━\u001b[0m \u001b[32m278.7/278.7 kB\u001b[0m \u001b[31m4.6 MB/s\u001b[0m eta \u001b[36m0:00:00\u001b[0m\n",
            "\u001b[?25hInstalling collected packages: redis\n",
            "Successfully installed redis-6.2.0\n"
          ]
        }
      ],
      "source": [
        "!pip install redis\n",
        "!pip install openai==1.82.1\n",
        "!pip install -U openai langchain-openai requests python-dotenv --quiet\n"
      ]
    },
    {
      "cell_type": "code",
      "execution_count": null,
      "metadata": {
        "colab": {
          "base_uri": "https://localhost:8080/"
        },
        "id": "_qvPwQhL2_yy",
        "outputId": "1b8c139c-0687-42f1-c53c-b57a17b97f8d"
      },
      "outputs": [
        {
          "name": "stdout",
          "output_type": "stream",
          "text": [
            "Quantum computing is a type of computing that uses quantum bits, or \"qubits\", to process information, instead of the regular bits used by traditional computers. \n",
            "\n",
            "In a normal computer, a bit is either a 0 or a 1. But a qubit, thanks to the principles of quantum mechanics, can be both a 0 and a 1 at the same time. This is called superposition. \n",
            "\n",
            "Additionally, there's another quantum property called entanglement, where qubits become interconnected and the state of one can instantly affect the state of another, no matter how far apart they are. \n",
            "\n",
            "These two properties make quantum computers incredibly powerful. They can process vast amounts of data and solve complex problems much faster than traditional computers. But they're also very delicate and hard to maintain, so we're still in the early stages of practical quantum computing.\n"
          ]
        }
      ],
      "source": [
        "\n",
        "import openai\n",
        "\n",
        "# Create the OpenAI client with all required context\n",
        "client = openai.OpenAI(\n",
        "    api_key=api_key,\n",
        "    organization=organization_id,\n",
        "    project=project_id\n",
        ")\n",
        "\n",
        "# Make a chat completion request\n",
        "response = client.chat.completions.create(\n",
        "    model=\"gpt-4\",  # Use a valid model name like \"gpt-4\" or \"gpt-3.5-turbo\"\n",
        "    messages=[\n",
        "        {\"role\": \"system\", \"content\": \"You are a helpful assistant.\"},\n",
        "        {\"role\": \"user\", \"content\": \"Explain quantum computing in simple terms.\"}\n",
        "    ],\n",
        "    temperature=0.7,\n",
        "    max_tokens=200\n",
        ")\n",
        "\n",
        "# Print the assistant's reply\n",
        "print(response.choices[0].message.content)\n"
      ]
    },
    {
      "cell_type": "markdown",
      "metadata": {
        "id": "UlWRsrlvXWfx"
      },
      "source": [
        "#serp API"
      ]
    },
    {
      "cell_type": "code",
      "execution_count": null,
      "metadata": {
        "colab": {
          "base_uri": "https://localhost:8080/"
        },
        "id": "g4exgJAX9QxM",
        "outputId": "7854dc13-676c-46ec-f210-b564ddc4daf0"
      },
      "outputs": [
        {
          "name": "stdout",
          "output_type": "stream",
          "text": [
            "[{'title': 'Brooklyn Vegan Bakeries: 7 Spots for Cake, Donuts & More', 'snippet': 'The Best Vegan Bakeries to Visit in Brooklyn · Happy Zoe Vegan Bakery · Clementine Café & Bakery · Dun-Well Doughnuts · Cloudy Donut · Reverie.', 'link': 'https://veggiesabroad.com/brooklyn-vegan-bakery-guide/'}, {'title': 'BEST of Brooklyn, NY Vegan Bakery', 'snippet': 'Top 10 Best Vegan Bakery Near Brooklyn, New York · 1. Happy Zoe Vegan Bakery · 2. Vegan Pastry Lab · 3. Clementine Bakery Cafe · 4. Ladybird Bakery · 5. Le ...', 'link': 'https://www.yelp.com/search?find_desc=Vegan+Bakery&find_loc=Brooklyn%2C+NY'}]\n"
          ]
        }
      ],
      "source": [
        "import requests\n",
        "\n",
        "params = {\n",
        "    \"engine\": \"google\",\n",
        "    \"q\": \"Best vegan bakery in Brooklyn\",\n",
        "    \"api_key\": os.environ.get(\"X-API-KE\"),\n",
        "    \"num\": 3,  # Limit to 3 results\n",
        "    \"hl\": \"en\",  # Language\n",
        "    \"gl\": \"us\"   # Location\n",
        "}\n",
        "\n",
        "response = requests.get(\"https://serpapi.com/search\", params=params)\n",
        "results = response.json()\n",
        "\n",
        "# Extracting light version of the organic results\n",
        "light_results = []\n",
        "for r in results.get(\"organic_results\", [])[:3]:\n",
        "    light_results.append({\n",
        "        \"title\": r.get(\"title\"),\n",
        "        \"snippet\": r.get(\"snippet\"),\n",
        "        \"link\": r.get(\"link\")\n",
        "    })\n",
        "\n",
        "print(light_results)\n",
        "\n"
      ]
    },
    {
      "cell_type": "markdown",
      "metadata": {
        "id": "NlJxbX7xXaY_"
      },
      "source": [
        "# GPT+SERP API"
      ]
    },
    {
      "cell_type": "code",
      "execution_count": null,
      "metadata": {
        "colab": {
          "base_uri": "https://localhost:8080/"
        },
        "id": "jystCl3mA_yf",
        "outputId": "e634bde6-01bb-45d5-d31f-721ae5ec8e3f"
      },
      "outputs": [
        {
          "name": "stdout",
          "output_type": "stream",
          "text": [
            "result ```json\n",
            "{\n",
            "  \"title\": \"Best Vegan Bakeries in Brooklyn\",\n",
            "  \"subtitle\": \"Discover the Top Spots for Vegan Treats\",\n",
            "  \"bullets\": [\n",
            "    \"Happy Zoe Vegan Bakery\",\n",
            "    \"Clementine Café & Bakery\",\n",
            "    \"Dun-Well Doughnuts\",\n",
            "    \"Cloudy Donut\",\n",
            "    \"Reverie\",\n",
            "    \"Vegan Pastry Lab\",\n",
            "    \"Ladybird Bakery\"\n",
            "  ]\n",
            "}\n",
            "```\n"
          ]
        }
      ],
      "source": [
        "# ✅ Step 1: Install dependencies\n",
        "# !pip install requests python-dotenv --quiet\n",
        "# !pip install --upgrade --no-cache-dir openai\n",
        "\n",
        "# ✅ Step 2: Import libraries\n",
        "import os\n",
        "import requests\n",
        "from openai import OpenAI\n",
        "from dotenv import load_dotenv\n",
        "\n",
        "# ✅ Step 3: Set API keys\n",
        "api_key = os.environ.get(\"OpenAI_API_KEY\")\n",
        "organization_id = os.environ.get(\"OpenAI_Organization_ID\")\n",
        "project_id = os.environ.get(\"OpenAI_Project_ID\")\n",
        "SERPER_API_KEY = os.environ.get(\"Open_SERPER_API_KEY\")\n",
        "\n",
        "# ✅ Step 4: Create OpenAI client\n",
        "client = OpenAI(\n",
        "    api_key=api_key,\n",
        "    organization=organization_id,\n",
        "    project=project_id\n",
        ")\n",
        "\n",
        "# ✅ Step 5: Define Serper function\n",
        "def get_light_search_results(query, num_results=3):\n",
        "    url = \"https://serpapi.com/search\"\n",
        "    params = {\n",
        "        \"engine\": \"google\",\n",
        "        \"q\": query,\n",
        "        \"api_key\": SERPER_API_KEY,\n",
        "        \"num\": num_results\n",
        "    }\n",
        "    response = requests.get(url, params=params)\n",
        "    results = response.json().get(\"organic_results\", [])\n",
        "    return [\n",
        "        {\n",
        "            \"title\": r.get(\"title\"),\n",
        "            \"snippet\": r.get(\"snippet\"),\n",
        "            \"link\": r.get(\"link\")\n",
        "        } for r in results if r.get(\"title\") and r.get(\"snippet\")\n",
        "    ]\n",
        "\n",
        "# ✅ Step 6: Build prompt from results\n",
        "def build_prompt(query, serp_results):\n",
        "    base_prompt = f\"Generate JSON microsite content from the following search results.\\nQuery: {query}\\n\\n\"\n",
        "    for r in serp_results:\n",
        "        base_prompt += f\"- {r['title']}: {r['snippet']}\\n\"\n",
        "    base_prompt += (\n",
        "        \"\\nReturn strictly JSON like this:\\n\"\n",
        "        \"{ \\\"title\\\": \\\"...\\\", \\\"subtitle\\\": \\\"...\\\", \\\"bullets\\\": [\\\"...\\\", \\\"...\\\", \\\"...\\\"] }\"\n",
        "    )\n",
        "    return base_prompt\n",
        "\n",
        "# ✅ Step 7: Call GPT-4o\n",
        "def generate_microsite_data(query):\n",
        "    search_results = get_light_search_results(query)\n",
        "    prompt = build_prompt(query, search_results)\n",
        "\n",
        "    response = client.chat.completions.create(\n",
        "        model=\"gpt-4o\",\n",
        "        messages=[\n",
        "            {\"role\": \"system\", \"content\": \"You are a JSON microsite generator.\"},\n",
        "            {\"role\": \"user\", \"content\": prompt}\n",
        "        ],\n",
        "        temperature=0.5,\n",
        "        max_tokens=500\n",
        "    )\n",
        "    return response.choices[0].message.content\n",
        "\n",
        "# ✅ Step 8: Run it!\n",
        "query = \"Best vegan bakeries in Brooklyn\"\n",
        "result = generate_microsite_data(query)\n",
        "print(\"result\",result)\n"
      ]
    }
  ],
  "metadata": {
    "colab": {
      "provenance": []
    },
    "kernelspec": {
      "display_name": "Python 3",
      "name": "python3"
    },
    "language_info": {
      "name": "python"
    }
  },
  "nbformat": 4,
  "nbformat_minor": 0
}
